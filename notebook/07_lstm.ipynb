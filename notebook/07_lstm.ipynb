{
 "cells": [
  {
   "cell_type": "code",
   "execution_count": 1,
   "metadata": {},
   "outputs": [
    {
     "name": "stderr",
     "output_type": "stream",
     "text": [
      "Using TensorFlow backend.\n"
     ]
    }
   ],
   "source": [
    "from __future__ import print_function\n",
    "from keras.preprocessing import sequence\n",
    "from keras.models import Sequential\n",
    "from keras.layers import Dense,Embedding\n",
    "from keras.layers import LSTM\n",
    "from keras.datasets import imdb # 文本分类数据集"
   ]
  },
  {
   "cell_type": "code",
   "execution_count": 2,
   "metadata": {},
   "outputs": [],
   "source": [
    "# 参数设置\n",
    "max_features=20000\n",
    "max_len=80 # 文本最大长度\n",
    "batch_size=32"
   ]
  },
  {
   "cell_type": "code",
   "execution_count": 3,
   "metadata": {},
   "outputs": [
    {
     "name": "stdout",
     "output_type": "stream",
     "text": [
      "loading data...\n",
      "25000 train sequences\n",
      "25000 test sequences\n"
     ]
    }
   ],
   "source": [
    "# 加载数据\n",
    "print(\"loading data...\")\n",
    "(X_train,y_train),(X_test,y_test)=imdb.load_data(num_words=max_features)\n",
    "print(len(X_train),\"train sequences\")\n",
    "print(len(X_test),\"test sequences\")"
   ]
  },
  {
   "cell_type": "code",
   "execution_count": 10,
   "metadata": {},
   "outputs": [
    {
     "data": {
      "text/plain": [
       "array([1, 0, 0, ..., 0, 1, 0], dtype=int64)"
      ]
     },
     "execution_count": 10,
     "metadata": {},
     "output_type": "execute_result"
    }
   ],
   "source": [
    "y_train"
   ]
  },
  {
   "cell_type": "code",
   "execution_count": 9,
   "metadata": {},
   "outputs": [
    {
     "name": "stdout",
     "output_type": "stream",
     "text": [
      "Pad sequences\n",
      "X_train shape: (25000, 80)\n",
      "X_test shape: (25000, 80)\n",
      "Build model...\n"
     ]
    }
   ],
   "source": [
    "print(\"Pad sequences\") # 填充\n",
    "X_train=sequence.pad_sequences(X_train,maxlen=max_len)\n",
    "X_test=sequence.pad_sequences(X_test,maxlen=max_len)\n",
    "print(\"X_train shape:\",X_train.shape)\n",
    "print(\"X_test shape:\",X_test.shape)\n",
    "# 建立模型\n",
    "print(\"Build model...\")\n",
    "model=Sequential()\n",
    "model.add(Embedding(max_features,128))\n",
    "model.add(LSTM(128,dropout=0.2,recurrent_dropout=0.2))\n",
    "model.add(Dense(1,activation='sigmoid'))\n",
    "model.compile(optimizer='adam',loss='binary_crossentropy',metrics=['accuracy'])\n"
   ]
  },
  {
   "cell_type": "code",
   "execution_count": 12,
   "metadata": {},
   "outputs": [
    {
     "name": "stdout",
     "output_type": "stream",
     "text": [
      "Train...\n",
      "Train on 25000 samples, validate on 25000 samples\n",
      "Epoch 1/15\n",
      "25000/25000 [==============================] - 102s 4ms/step - loss: 0.4605 - acc: 0.7830 - val_loss: 0.4077 - val_acc: 0.8198\n",
      "Epoch 2/15\n",
      "25000/25000 [==============================] - 98s 4ms/step - loss: 0.3173 - acc: 0.8688 - val_loss: 0.3723 - val_acc: 0.8380\n",
      "Epoch 3/15\n",
      "25000/25000 [==============================] - 101s 4ms/step - loss: 0.2222 - acc: 0.9138 - val_loss: 0.4276 - val_acc: 0.8196\n",
      "Epoch 4/15\n",
      "25000/25000 [==============================] - 97s 4ms/step - loss: 0.1602 - acc: 0.9407 - val_loss: 0.4458 - val_acc: 0.8277\n",
      "Epoch 5/15\n",
      "25000/25000 [==============================] - 96s 4ms/step - loss: 0.1138 - acc: 0.9588 - val_loss: 0.5939 - val_acc: 0.8214\n",
      "Epoch 6/15\n",
      "25000/25000 [==============================] - 95s 4ms/step - loss: 0.0815 - acc: 0.9702 - val_loss: 0.6359 - val_acc: 0.8212\n",
      "Epoch 7/15\n",
      "25000/25000 [==============================] - 96s 4ms/step - loss: 0.0562 - acc: 0.9822 - val_loss: 0.6944 - val_acc: 0.8210\n",
      "Epoch 8/15\n",
      "25000/25000 [==============================] - 101s 4ms/step - loss: 0.0443 - acc: 0.9859 - val_loss: 0.7328 - val_acc: 0.8207\n",
      "Epoch 9/15\n",
      "25000/25000 [==============================] - 98s 4ms/step - loss: 0.0304 - acc: 0.9902 - val_loss: 0.9312 - val_acc: 0.8182\n",
      "Epoch 10/15\n",
      "25000/25000 [==============================] - 99s 4ms/step - loss: 0.0332 - acc: 0.9894 - val_loss: 0.8288 - val_acc: 0.8137\n",
      "Epoch 11/15\n",
      "25000/25000 [==============================] - 100s 4ms/step - loss: 0.0222 - acc: 0.9930 - val_loss: 0.8883 - val_acc: 0.8154\n",
      "Epoch 12/15\n",
      "25000/25000 [==============================] - 102s 4ms/step - loss: 0.0175 - acc: 0.9945 - val_loss: 1.0153 - val_acc: 0.8108\n",
      "Epoch 13/15\n",
      "25000/25000 [==============================] - 101s 4ms/step - loss: 0.0126 - acc: 0.9964 - val_loss: 1.1187 - val_acc: 0.8033\n",
      "Epoch 14/15\n",
      "25000/25000 [==============================] - 102s 4ms/step - loss: 0.0118 - acc: 0.9963 - val_loss: 1.1327 - val_acc: 0.8095\n",
      "Epoch 15/15\n",
      "25000/25000 [==============================] - 96s 4ms/step - loss: 0.0102 - acc: 0.9964 - val_loss: 1.0937 - val_acc: 0.8118\n",
      "Test score: 1.0936709493285417\n",
      "Test accuracy: 0.8118\n"
     ]
    }
   ],
   "source": [
    "# 训练模型\n",
    "print(\"Train...\")\n",
    "model.fit(X_train,y_train,\n",
    "          batch_size=batch_size,\n",
    "          epochs=15,\n",
    "          verbose=1,\n",
    "          validation_data=(X_test,y_test))\n",
    "\n",
    "score,acc=model.evaluate(X_test,y_test,batch_size=batch_size,verbose=0)\n",
    "print(\"Test score:\",score)\n",
    "print(\"Test accuracy:\",acc)"
   ]
  },
  {
   "cell_type": "code",
   "execution_count": 13,
   "metadata": {},
   "outputs": [
    {
     "data": {
      "image/svg+xml": [
       "<svg height=\"294pt\" viewBox=\"0.00 0.00 348.00 294.00\" width=\"348pt\" xmlns=\"http://www.w3.org/2000/svg\" xmlns:xlink=\"http://www.w3.org/1999/xlink\">\n",
       "<g class=\"graph\" id=\"graph0\" transform=\"scale(1 1) rotate(0) translate(4 290)\">\n",
       "<title>G</title>\n",
       "<polygon fill=\"white\" points=\"-4,4 -4,-290 344,-290 344,4 -4,4\" stroke=\"none\"/>\n",
       "<!-- 2646758332568 -->\n",
       "<g class=\"node\" id=\"node1\"><title>2646758332568</title>\n",
       "<polygon fill=\"none\" points=\"0,-166.5 0,-212.5 340,-212.5 340,-166.5 0,-166.5\" stroke=\"black\"/>\n",
       "<text font-family=\"Times New Roman,serif\" font-size=\"14.00\" text-anchor=\"middle\" x=\"81.5\" y=\"-185.8\">embedding_1: Embedding</text>\n",
       "<polyline fill=\"none\" points=\"163,-166.5 163,-212.5 \" stroke=\"black\"/>\n",
       "<text font-family=\"Times New Roman,serif\" font-size=\"14.00\" text-anchor=\"middle\" x=\"191\" y=\"-197.3\">input:</text>\n",
       "<polyline fill=\"none\" points=\"163,-189.5 219,-189.5 \" stroke=\"black\"/>\n",
       "<text font-family=\"Times New Roman,serif\" font-size=\"14.00\" text-anchor=\"middle\" x=\"191\" y=\"-174.3\">output:</text>\n",
       "<polyline fill=\"none\" points=\"219,-166.5 219,-212.5 \" stroke=\"black\"/>\n",
       "<text font-family=\"Times New Roman,serif\" font-size=\"14.00\" text-anchor=\"middle\" x=\"279.5\" y=\"-197.3\">(None, None)</text>\n",
       "<polyline fill=\"none\" points=\"219,-189.5 340,-189.5 \" stroke=\"black\"/>\n",
       "<text font-family=\"Times New Roman,serif\" font-size=\"14.00\" text-anchor=\"middle\" x=\"279.5\" y=\"-174.3\">(None, None, 128)</text>\n",
       "</g>\n",
       "<!-- 2646758333128 -->\n",
       "<g class=\"node\" id=\"node2\"><title>2646758333128</title>\n",
       "<polygon fill=\"none\" points=\"32.5,-83.5 32.5,-129.5 307.5,-129.5 307.5,-83.5 32.5,-83.5\" stroke=\"black\"/>\n",
       "<text font-family=\"Times New Roman,serif\" font-size=\"14.00\" text-anchor=\"middle\" x=\"81.5\" y=\"-102.8\">lstm_1: LSTM</text>\n",
       "<polyline fill=\"none\" points=\"130.5,-83.5 130.5,-129.5 \" stroke=\"black\"/>\n",
       "<text font-family=\"Times New Roman,serif\" font-size=\"14.00\" text-anchor=\"middle\" x=\"158.5\" y=\"-114.3\">input:</text>\n",
       "<polyline fill=\"none\" points=\"130.5,-106.5 186.5,-106.5 \" stroke=\"black\"/>\n",
       "<text font-family=\"Times New Roman,serif\" font-size=\"14.00\" text-anchor=\"middle\" x=\"158.5\" y=\"-91.3\">output:</text>\n",
       "<polyline fill=\"none\" points=\"186.5,-83.5 186.5,-129.5 \" stroke=\"black\"/>\n",
       "<text font-family=\"Times New Roman,serif\" font-size=\"14.00\" text-anchor=\"middle\" x=\"247\" y=\"-114.3\">(None, None, 128)</text>\n",
       "<polyline fill=\"none\" points=\"186.5,-106.5 307.5,-106.5 \" stroke=\"black\"/>\n",
       "<text font-family=\"Times New Roman,serif\" font-size=\"14.00\" text-anchor=\"middle\" x=\"247\" y=\"-91.3\">(None, 128)</text>\n",
       "</g>\n",
       "<!-- 2646758332568&#45;&gt;2646758333128 -->\n",
       "<g class=\"edge\" id=\"edge2\"><title>2646758332568-&gt;2646758333128</title>\n",
       "<path d=\"M170,-166.366C170,-158.152 170,-148.658 170,-139.725\" fill=\"none\" stroke=\"black\"/>\n",
       "<polygon fill=\"black\" points=\"173.5,-139.607 170,-129.607 166.5,-139.607 173.5,-139.607\" stroke=\"black\"/>\n",
       "</g>\n",
       "<!-- 2646758334192 -->\n",
       "<g class=\"node\" id=\"node3\"><title>2646758334192</title>\n",
       "<polygon fill=\"none\" points=\"48.5,-0.5 48.5,-46.5 291.5,-46.5 291.5,-0.5 48.5,-0.5\" stroke=\"black\"/>\n",
       "<text font-family=\"Times New Roman,serif\" font-size=\"14.00\" text-anchor=\"middle\" x=\"100.5\" y=\"-19.8\">dense_1: Dense</text>\n",
       "<polyline fill=\"none\" points=\"152.5,-0.5 152.5,-46.5 \" stroke=\"black\"/>\n",
       "<text font-family=\"Times New Roman,serif\" font-size=\"14.00\" text-anchor=\"middle\" x=\"180.5\" y=\"-31.3\">input:</text>\n",
       "<polyline fill=\"none\" points=\"152.5,-23.5 208.5,-23.5 \" stroke=\"black\"/>\n",
       "<text font-family=\"Times New Roman,serif\" font-size=\"14.00\" text-anchor=\"middle\" x=\"180.5\" y=\"-8.3\">output:</text>\n",
       "<polyline fill=\"none\" points=\"208.5,-0.5 208.5,-46.5 \" stroke=\"black\"/>\n",
       "<text font-family=\"Times New Roman,serif\" font-size=\"14.00\" text-anchor=\"middle\" x=\"250\" y=\"-31.3\">(None, 128)</text>\n",
       "<polyline fill=\"none\" points=\"208.5,-23.5 291.5,-23.5 \" stroke=\"black\"/>\n",
       "<text font-family=\"Times New Roman,serif\" font-size=\"14.00\" text-anchor=\"middle\" x=\"250\" y=\"-8.3\">(None, 1)</text>\n",
       "</g>\n",
       "<!-- 2646758333128&#45;&gt;2646758334192 -->\n",
       "<g class=\"edge\" id=\"edge3\"><title>2646758333128-&gt;2646758334192</title>\n",
       "<path d=\"M170,-83.3664C170,-75.1516 170,-65.6579 170,-56.7252\" fill=\"none\" stroke=\"black\"/>\n",
       "<polygon fill=\"black\" points=\"173.5,-56.6068 170,-46.6068 166.5,-56.6069 173.5,-56.6068\" stroke=\"black\"/>\n",
       "</g>\n",
       "<!-- 2646758333240 -->\n",
       "<g class=\"node\" id=\"node4\"><title>2646758333240</title>\n",
       "<polygon fill=\"none\" points=\"118,-249.5 118,-285.5 222,-285.5 222,-249.5 118,-249.5\" stroke=\"black\"/>\n",
       "<text font-family=\"Times New Roman,serif\" font-size=\"14.00\" text-anchor=\"middle\" x=\"170\" y=\"-263.8\">2646758333240</text>\n",
       "</g>\n",
       "<!-- 2646758333240&#45;&gt;2646758332568 -->\n",
       "<g class=\"edge\" id=\"edge1\"><title>2646758333240-&gt;2646758332568</title>\n",
       "<path d=\"M170,-249.254C170,-241.363 170,-231.749 170,-222.602\" fill=\"none\" stroke=\"black\"/>\n",
       "<polygon fill=\"black\" points=\"173.5,-222.591 170,-212.591 166.5,-222.591 173.5,-222.591\" stroke=\"black\"/>\n",
       "</g>\n",
       "</g>\n",
       "</svg>"
      ],
      "text/plain": [
       "<IPython.core.display.SVG object>"
      ]
     },
     "execution_count": 13,
     "metadata": {},
     "output_type": "execute_result"
    }
   ],
   "source": [
    "from IPython.display import SVG\n",
    "from keras.utils.vis_utils import model_to_dot\n",
    "SVG(model_to_dot(model,show_shapes=True).create(prog='dot', format='svg'))"
   ]
  },
  {
   "cell_type": "code",
   "execution_count": null,
   "metadata": {},
   "outputs": [],
   "source": []
  }
 ],
 "metadata": {
  "kernelspec": {
   "display_name": "Python 3",
   "language": "python",
   "name": "python3"
  },
  "language_info": {
   "codemirror_mode": {
    "name": "ipython",
    "version": 3
   },
   "file_extension": ".py",
   "mimetype": "text/x-python",
   "name": "python",
   "nbconvert_exporter": "python",
   "pygments_lexer": "ipython3",
   "version": "3.6.5"
  }
 },
 "nbformat": 4,
 "nbformat_minor": 2
}
