{
 "cells": [
  {
   "cell_type": "code",
   "execution_count": 9,
   "metadata": {},
   "outputs": [],
   "source": [
    "from keras.models import Sequential\n",
    "from keras.layers import Dense\n",
    "import numpy as np\n",
    "import matplotlib.pyplot as plt\n",
    "%matplotlib inline"
   ]
  },
  {
   "cell_type": "code",
   "execution_count": 10,
   "metadata": {},
   "outputs": [],
   "source": [
    "# Generate dataset\n",
    "trX = np.linspace(-1, 1, 101)\n",
    "trY = 2 * trX + np.random.randn(*trX.shape) * 0.33 # create a y value which is approximately linear but with some random noise"
   ]
  },
  {
   "cell_type": "code",
   "execution_count": 11,
   "metadata": {},
   "outputs": [
    {
     "name": "stderr",
     "output_type": "stream",
     "text": [
      "E:\\ProgramData\\Anaconda3\\lib\\site-packages\\ipykernel_launcher.py:3: UserWarning: Update your `Dense` call to the Keras 2 API: `Dense(input_dim=1, activation=\"linear\", units=1, kernel_initializer=\"uniform\")`\n",
      "  This is separate from the ipykernel package so we can avoid doing imports until\n"
     ]
    }
   ],
   "source": [
    "# Linear regression model\n",
    "model = Sequential()\n",
    "model.add(Dense(input_dim=1, output_dim=1, init='uniform', activation='linear'))\n",
    "model.compile(optimizer='sgd', loss='mse')"
   ]
  },
  {
   "cell_type": "code",
   "execution_count": 12,
   "metadata": {},
   "outputs": [
    {
     "name": "stdout",
     "output_type": "stream",
     "text": [
      "Linear regression model is initialized with weight w: 0.03, b: 0.00\n"
     ]
    }
   ],
   "source": [
    "#  Print initial weights\n",
    "weights = model.layers[0].get_weights()\n",
    "w_init = weights[0][0][0]\n",
    "b_init = weights[1][0]\n",
    "print('Linear regression model is initialized with weight w: %.2f, b: %.2f' % (w_init, b_init))"
   ]
  },
  {
   "cell_type": "code",
   "execution_count": 13,
   "metadata": {
    "scrolled": false
   },
   "outputs": [
    {
     "name": "stderr",
     "output_type": "stream",
     "text": [
      "E:\\ProgramData\\Anaconda3\\lib\\site-packages\\ipykernel_launcher.py:2: UserWarning: The `nb_epoch` argument in `fit` has been renamed `epochs`.\n",
      "  \n"
     ]
    },
    {
     "name": "stdout",
     "output_type": "stream",
     "text": [
      "Epoch 1/100\n",
      "101/101 [==============================] - 0s 918us/step - loss: 1.4700\n",
      "Epoch 2/100\n",
      "101/101 [==============================] - 0s 124us/step - loss: 1.3962\n",
      "Epoch 3/100\n",
      "101/101 [==============================] - 0s 89us/step - loss: 1.3278\n",
      "Epoch 4/100\n",
      "101/101 [==============================] - 0s 99us/step - loss: 1.2619\n",
      "Epoch 5/100\n",
      "101/101 [==============================] - 0s 139us/step - loss: 1.1960\n",
      "Epoch 6/100\n",
      "101/101 [==============================] - 0s 119us/step - loss: 1.1368\n",
      "Epoch 7/100\n",
      "101/101 [==============================] - 0s 94us/step - loss: 1.0818\n",
      "Epoch 8/100\n",
      "101/101 [==============================] - 0s 99us/step - loss: 1.0395\n",
      "Epoch 9/100\n",
      "101/101 [==============================] - 0s 134us/step - loss: 0.9912\n",
      "Epoch 10/100\n",
      "101/101 [==============================] - 0s 104us/step - loss: 0.9461\n",
      "Epoch 11/100\n",
      "101/101 [==============================] - 0s 94us/step - loss: 0.9023\n",
      "Epoch 12/100\n",
      "101/101 [==============================] - 0s 79us/step - loss: 0.8569\n",
      "Epoch 13/100\n",
      "101/101 [==============================] - 0s 134us/step - loss: 0.8176\n",
      "Epoch 14/100\n",
      "101/101 [==============================] - 0s 99us/step - loss: 0.7841\n",
      "Epoch 15/100\n",
      "101/101 [==============================] - 0s 124us/step - loss: 0.7449\n",
      "Epoch 16/100\n",
      "101/101 [==============================] - 0s 99us/step - loss: 0.7127\n",
      "Epoch 17/100\n",
      "101/101 [==============================] - 0s 104us/step - loss: 0.6779\n",
      "Epoch 18/100\n",
      "101/101 [==============================] - 0s 119us/step - loss: 0.6425\n",
      "Epoch 19/100\n",
      "101/101 [==============================] - 0s 84us/step - loss: 0.6135\n",
      "Epoch 20/100\n",
      "101/101 [==============================] - 0s 84us/step - loss: 0.5879\n",
      "Epoch 21/100\n",
      "101/101 [==============================] - 0s 119us/step - loss: 0.5594\n",
      "Epoch 22/100\n",
      "101/101 [==============================] - 0s 119us/step - loss: 0.5327\n",
      "Epoch 23/100\n",
      "101/101 [==============================] - 0s 99us/step - loss: 0.5079\n",
      "Epoch 24/100\n",
      "101/101 [==============================] - 0s 129us/step - loss: 0.4870\n",
      "Epoch 25/100\n",
      "101/101 [==============================] - 0s 94us/step - loss: 0.4681\n",
      "Epoch 26/100\n",
      "101/101 [==============================] - 0s 119us/step - loss: 0.4489\n",
      "Epoch 27/100\n",
      "101/101 [==============================] - 0s 94us/step - loss: 0.4323\n",
      "Epoch 28/100\n",
      "101/101 [==============================] - 0s 104us/step - loss: 0.4172\n",
      "Epoch 29/100\n",
      "101/101 [==============================] - 0s 104us/step - loss: 0.4018\n",
      "Epoch 30/100\n",
      "101/101 [==============================] - 0s 104us/step - loss: 0.3871\n",
      "Epoch 31/100\n",
      "101/101 [==============================] - 0s 114us/step - loss: 0.3739\n",
      "Epoch 32/100\n",
      "101/101 [==============================] - 0s 109us/step - loss: 0.3582\n",
      "Epoch 33/100\n",
      "101/101 [==============================] - 0s 114us/step - loss: 0.3449\n",
      "Epoch 34/100\n",
      "101/101 [==============================] - 0s 124us/step - loss: 0.3314\n",
      "Epoch 35/100\n",
      "101/101 [==============================] - 0s 89us/step - loss: 0.3189\n",
      "Epoch 36/100\n",
      "101/101 [==============================] - 0s 99us/step - loss: 0.3075\n",
      "Epoch 37/100\n",
      "101/101 [==============================] - 0s 74us/step - loss: 0.2967\n",
      "Epoch 38/100\n",
      "101/101 [==============================] - 0s 79us/step - loss: 0.2871\n",
      "Epoch 39/100\n",
      "101/101 [==============================] - 0s 109us/step - loss: 0.2781\n",
      "Epoch 40/100\n",
      "101/101 [==============================] - 0s 99us/step - loss: 0.2693\n",
      "Epoch 41/100\n",
      "101/101 [==============================] - 0s 114us/step - loss: 0.2599\n",
      "Epoch 42/100\n",
      "101/101 [==============================] - 0s 99us/step - loss: 0.2498\n",
      "Epoch 43/100\n",
      "101/101 [==============================] - 0s 94us/step - loss: 0.2424\n",
      "Epoch 44/100\n",
      "101/101 [==============================] - 0s 109us/step - loss: 0.2348\n",
      "Epoch 45/100\n",
      "101/101 [==============================] - 0s 104us/step - loss: 0.2267\n",
      "Epoch 46/100\n",
      "101/101 [==============================] - 0s 94us/step - loss: 0.2193\n",
      "Epoch 47/100\n",
      "101/101 [==============================] - 0s 104us/step - loss: 0.2131\n",
      "Epoch 48/100\n",
      "101/101 [==============================] - 0s 94us/step - loss: 0.2070\n",
      "Epoch 49/100\n",
      "101/101 [==============================] - 0s 89us/step - loss: 0.2012\n",
      "Epoch 50/100\n",
      "101/101 [==============================] - 0s 89us/step - loss: 0.1970\n",
      "Epoch 51/100\n",
      "101/101 [==============================] - 0s 94us/step - loss: 0.1913\n",
      "Epoch 52/100\n",
      "101/101 [==============================] - 0s 99us/step - loss: 0.1860\n",
      "Epoch 53/100\n",
      "101/101 [==============================] - 0s 109us/step - loss: 0.1818\n",
      "Epoch 54/100\n",
      "101/101 [==============================] - 0s 84us/step - loss: 0.1786\n",
      "Epoch 55/100\n",
      "101/101 [==============================] - 0s 74us/step - loss: 0.1746\n",
      "Epoch 56/100\n",
      "101/101 [==============================] - 0s 114us/step - loss: 0.1704\n",
      "Epoch 57/100\n",
      "101/101 [==============================] - 0s 79us/step - loss: 0.1659\n",
      "Epoch 58/100\n",
      "101/101 [==============================] - 0s 84us/step - loss: 0.1619\n",
      "Epoch 59/100\n",
      "101/101 [==============================] - 0s 119us/step - loss: 0.1592\n",
      "Epoch 60/100\n",
      "101/101 [==============================] - 0s 94us/step - loss: 0.1559\n",
      "Epoch 61/100\n",
      "101/101 [==============================] - 0s 84us/step - loss: 0.1527\n",
      "Epoch 62/100\n",
      "101/101 [==============================] - 0s 114us/step - loss: 0.1501\n",
      "Epoch 63/100\n",
      "101/101 [==============================] - 0s 99us/step - loss: 0.1476\n",
      "Epoch 64/100\n",
      "101/101 [==============================] - 0s 84us/step - loss: 0.1454\n",
      "Epoch 65/100\n",
      "101/101 [==============================] - 0s 119us/step - loss: 0.1435\n",
      "Epoch 66/100\n",
      "101/101 [==============================] - 0s 79us/step - loss: 0.1409\n",
      "Epoch 67/100\n",
      "101/101 [==============================] - 0s 74us/step - loss: 0.1389\n",
      "Epoch 68/100\n",
      "101/101 [==============================] - 0s 109us/step - loss: 0.1375\n",
      "Epoch 69/100\n",
      "101/101 [==============================] - 0s 84us/step - loss: 0.1354\n",
      "Epoch 70/100\n",
      "101/101 [==============================] - 0s 104us/step - loss: 0.1339\n",
      "Epoch 71/100\n",
      "101/101 [==============================] - 0s 89us/step - loss: 0.1327\n",
      "Epoch 72/100\n",
      "101/101 [==============================] - ETA: 0s - loss: 0.092 - 0s 104us/step - loss: 0.1313\n",
      "Epoch 73/100\n",
      "101/101 [==============================] - 0s 104us/step - loss: 0.1300\n",
      "Epoch 74/100\n",
      "101/101 [==============================] - 0s 104us/step - loss: 0.1287\n",
      "Epoch 75/100\n",
      "101/101 [==============================] - 0s 129us/step - loss: 0.1273\n",
      "Epoch 76/100\n",
      "101/101 [==============================] - 0s 89us/step - loss: 0.1262\n",
      "Epoch 77/100\n",
      "101/101 [==============================] - 0s 84us/step - loss: 0.1250\n",
      "Epoch 78/100\n",
      "101/101 [==============================] - 0s 104us/step - loss: 0.1237\n",
      "Epoch 79/100\n",
      "101/101 [==============================] - 0s 129us/step - loss: 0.1224\n",
      "Epoch 80/100\n",
      "101/101 [==============================] - 0s 94us/step - loss: 0.1213\n",
      "Epoch 81/100\n",
      "101/101 [==============================] - 0s 84us/step - loss: 0.1205\n",
      "Epoch 82/100\n",
      "101/101 [==============================] - 0s 79us/step - loss: 0.1194\n",
      "Epoch 83/100\n",
      "101/101 [==============================] - 0s 119us/step - loss: 0.1187\n",
      "Epoch 84/100\n",
      "101/101 [==============================] - 0s 124us/step - loss: 0.1178\n",
      "Epoch 85/100\n",
      "101/101 [==============================] - 0s 79us/step - loss: 0.1172\n",
      "Epoch 86/100\n",
      "101/101 [==============================] - 0s 84us/step - loss: 0.1166\n",
      "Epoch 87/100\n",
      "101/101 [==============================] - 0s 129us/step - loss: 0.1162\n",
      "Epoch 88/100\n",
      "101/101 [==============================] - 0s 94us/step - loss: 0.1156\n",
      "Epoch 89/100\n",
      "101/101 [==============================] - 0s 174us/step - loss: 0.1152\n",
      "Epoch 90/100\n",
      "101/101 [==============================] - 0s 144us/step - loss: 0.1146\n",
      "Epoch 91/100\n",
      "101/101 [==============================] - 0s 79us/step - loss: 0.1142\n",
      "Epoch 92/100\n",
      "101/101 [==============================] - 0s 74us/step - loss: 0.1136\n",
      "Epoch 93/100\n",
      "101/101 [==============================] - 0s 109us/step - loss: 0.1132\n",
      "Epoch 94/100\n",
      "101/101 [==============================] - 0s 119us/step - loss: 0.1129\n",
      "Epoch 95/100\n",
      "101/101 [==============================] - 0s 149us/step - loss: 0.1126\n",
      "Epoch 96/100\n",
      "101/101 [==============================] - 0s 129us/step - loss: 0.1122\n",
      "Epoch 97/100\n",
      "101/101 [==============================] - 0s 129us/step - loss: 0.1117\n",
      "Epoch 98/100\n",
      "101/101 [==============================] - 0s 79us/step - loss: 0.1116\n",
      "Epoch 99/100\n",
      "101/101 [==============================] - 0s 89us/step - loss: 0.1112\n",
      "Epoch 100/100\n",
      "101/101 [==============================] - 0s 129us/step - loss: 0.1110\n"
     ]
    },
    {
     "data": {
      "text/plain": [
       "<keras.callbacks.History at 0x22a890e5fd0>"
      ]
     },
     "execution_count": 13,
     "metadata": {},
     "output_type": "execute_result"
    }
   ],
   "source": [
    "# Train\n",
    "model.fit(trX, trY, nb_epoch=100, verbose=1)"
   ]
  },
  {
   "cell_type": "code",
   "execution_count": 14,
   "metadata": {},
   "outputs": [
    {
     "name": "stdout",
     "output_type": "stream",
     "text": [
      "Linear regression model is trained with weight w: 1.91, b: 0.09\n"
     ]
    }
   ],
   "source": [
    "# Print trained weights\n",
    "weights = model.layers[0].get_weights()\n",
    "w = weights[0][0][0]\n",
    "b = weights[1][0]\n",
    "print('Linear regression model is trained with weight w: %.2f, b: %.2f' % (w, b))"
   ]
  },
  {
   "cell_type": "code",
   "execution_count": 15,
   "metadata": {},
   "outputs": [
    {
     "data": {
      "image/png": "[encoded data removed]",
      "text/plain": [
       "<Figure size 432x288 with 1 Axes>"
      ]
     },
     "metadata": {},
     "output_type": "display_data"
    }
   ],
   "source": [
    "plt.plot(trX, trY, label='data')\n",
    "plt.plot(trX, w_init*trX + b_init, label='init')\n",
    "plt.plot(trX, w*trX + b, label='prediction')\n",
    "plt.legend()\n",
    "plt.show()"
   ]
  },
  {
   "cell_type": "code",
   "execution_count": 16,
   "metadata": {},
   "outputs": [
    {
     "data": {
      "image/svg+xml": [
       "<svg height=\"118pt\" viewBox=\"0.00 0.00 112.00 118.00\" width=\"112pt\" xmlns=\"http://www.w3.org/2000/svg\" xmlns:xlink=\"http://www.w3.org/1999/xlink\">\n",
       "<g class=\"graph\" id=\"graph0\" transform=\"scale(1 1) rotate(0) translate(4 114)\">\n",
       "<title>G</title>\n",
       "<polygon fill=\"white\" points=\"-4,4 -4,-114 108,-114 108,4 -4,4\" stroke=\"none\"/>\n",
       "<!-- 2383044851752 -->\n",
       "<g class=\"node\" id=\"node1\"><title>2383044851752</title>\n",
       "<polygon fill=\"none\" points=\"0,-0.5 0,-36.5 104,-36.5 104,-0.5 0,-0.5\" stroke=\"black\"/>\n",
       "<text font-family=\"Times New Roman,serif\" font-size=\"14.00\" text-anchor=\"middle\" x=\"52\" y=\"-14.8\">dense_2: Dense</text>\n",
       "</g>\n",
       "<!-- 2381711178776 -->\n",
       "<g class=\"node\" id=\"node2\"><title>2381711178776</title>\n",
       "<polygon fill=\"none\" points=\"0,-73.5 0,-109.5 104,-109.5 104,-73.5 0,-73.5\" stroke=\"black\"/>\n",
       "<text font-family=\"Times New Roman,serif\" font-size=\"14.00\" text-anchor=\"middle\" x=\"52\" y=\"-87.8\">2381711178776</text>\n",
       "</g>\n",
       "<!-- 2381711178776&#45;&gt;2383044851752 -->\n",
       "<g class=\"edge\" id=\"edge1\"><title>2381711178776-&gt;2383044851752</title>\n",
       "<path d=\"M52,-73.3129C52,-65.2895 52,-55.5475 52,-46.5691\" fill=\"none\" stroke=\"black\"/>\n",
       "<polygon fill=\"black\" points=\"55.5001,-46.5288 52,-36.5288 48.5001,-46.5289 55.5001,-46.5288\" stroke=\"black\"/>\n",
       "</g>\n",
       "</g>\n",
       "</svg>"
      ],
      "text/plain": [
       "<IPython.core.display.SVG object>"
      ]
     },
     "execution_count": 16,
     "metadata": {},
     "output_type": "execute_result"
    }
   ],
   "source": [
    "from IPython.display import SVG\n",
    "from keras.utils.vis_utils import model_to_dot\n",
    "\n",
    "SVG(model_to_dot(model).create(prog='dot', format='svg'))"
   ]
  },
  {
   "cell_type": "code",
   "execution_count": null,
   "metadata": {},
   "outputs": [],
   "source": []
  }
 ],
 "metadata": {
  "kernelspec": {
   "display_name": "Python 3",
   "language": "python",
   "name": "python3"
  },
  "language_info": {
   "codemirror_mode": {
    "name": "ipython",
    "version": 3
   },
   "file_extension": ".py",
   "mimetype": "text/x-python",
   "name": "python",
   "nbconvert_exporter": "python",
   "pygments_lexer": "ipython3",
   "version": "3.6.5"
  }
 },
 "nbformat": 4,
 "nbformat_minor": 1
}
