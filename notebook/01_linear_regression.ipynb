{
 "cells": [
  {
   "cell_type": "code",
   "execution_count": 17,
   "metadata": {},
   "outputs": [],
   "source": [
    "from keras.models import Sequential\n",
    "from keras.layers import Dense\n",
    "import numpy as np\n",
    "import matplotlib.pyplot as plt\n",
    "%matplotlib inline"
   ]
  },
  {
   "cell_type": "code",
   "execution_count": 18,
   "metadata": {},
   "outputs": [],
   "source": [
    "# 生成数据集\n",
    "X_train=np.linspace(-1,1,101)\n",
    "# ＃创建一个近似线性但具有一些随机噪声的y值\n",
    "y_train=2*X_train+np.random.randn(*X_train.shape)*0.33"
   ]
  },
  {
   "cell_type": "code",
   "execution_count": 19,
   "metadata": {},
   "outputs": [
    {
     "name": "stderr",
     "output_type": "stream",
     "text": [
      "E:\\ProgramData\\Anaconda3\\lib\\site-packages\\ipykernel_launcher.py:3: UserWarning: Update your `Dense` call to the Keras 2 API: `Dense(input_dim=1, activation=\"linear\", units=1, kernel_initializer=\"normal\")`\n",
      "  This is separate from the ipykernel package so we can avoid doing imports until\n"
     ]
    }
   ],
   "source": [
    "# 线性回归模型\n",
    "model=Sequential()\n",
    "model.add(Dense(output_dim=1,input_dim=1,init='normal',activation='linear'))\n",
    "model.compile(optimizer='sgd',loss='mse')"
   ]
  },
  {
   "cell_type": "code",
   "execution_count": 25,
   "metadata": {},
   "outputs": [
    {
     "name": "stdout",
     "output_type": "stream",
     "text": [
      "Linear regression model is initialized with weight w: 1.90, b: 0.01\n"
     ]
    }
   ],
   "source": [
    "#  输出初始参数\n",
    "weights = model.layers[0].get_weights()\n",
    "w_init = weights[0][0][0]\n",
    "b_init = weights[1][0]\n",
    "print('Linear regression model is initialized with weight w: %.2f, b: %.2f' % (w_init, b_init))"
   ]
  },
  {
   "cell_type": "code",
   "execution_count": 21,
   "metadata": {
    "scrolled": false
   },
   "outputs": [
    {
     "name": "stderr",
     "output_type": "stream",
     "text": [
      "E:\\ProgramData\\Anaconda3\\lib\\site-packages\\ipykernel_launcher.py:2: UserWarning: The `nb_epoch` argument in `fit` has been renamed `epochs`.\n",
      "  \n"
     ]
    },
    {
     "name": "stdout",
     "output_type": "stream",
     "text": [
      "Epoch 1/100\n",
      "101/101 [==============================] - 0s 920us/step - loss: 1.5056\n",
      "Epoch 2/100\n",
      "101/101 [==============================] - 0s 109us/step - loss: 1.4226\n",
      "Epoch 3/100\n",
      "101/101 [==============================] - 0s 99us/step - loss: 1.3548\n",
      "Epoch 4/100\n",
      "101/101 [==============================] - 0s 84us/step - loss: 1.2831\n",
      "Epoch 5/100\n",
      "101/101 [==============================] - 0s 104us/step - loss: 1.2217\n",
      "Epoch 6/100\n",
      "101/101 [==============================] - 0s 114us/step - loss: 1.1625\n",
      "Epoch 7/100\n",
      "101/101 [==============================] - 0s 75us/step - loss: 1.1040\n",
      "Epoch 8/100\n",
      "101/101 [==============================] - 0s 99us/step - loss: 1.0556\n",
      "Epoch 9/100\n",
      "101/101 [==============================] - 0s 84us/step - loss: 1.0082\n",
      "Epoch 10/100\n",
      "101/101 [==============================] - 0s 94us/step - loss: 0.9605\n",
      "Epoch 11/100\n",
      "101/101 [==============================] - 0s 109us/step - loss: 0.9105\n",
      "Epoch 12/100\n",
      "101/101 [==============================] - 0s 99us/step - loss: 0.8681\n",
      "Epoch 13/100\n",
      "101/101 [==============================] - 0s 104us/step - loss: 0.8265\n",
      "Epoch 14/100\n",
      "101/101 [==============================] - 0s 89us/step - loss: 0.7905\n",
      "Epoch 15/100\n",
      "101/101 [==============================] - 0s 99us/step - loss: 0.7554\n",
      "Epoch 16/100\n",
      "101/101 [==============================] - 0s 79us/step - loss: 0.7192\n",
      "Epoch 17/100\n",
      "101/101 [==============================] - 0s 109us/step - loss: 0.6859\n",
      "Epoch 18/100\n",
      "101/101 [==============================] - 0s 94us/step - loss: 0.6515\n",
      "Epoch 19/100\n",
      "101/101 [==============================] - 0s 94us/step - loss: 0.6207\n",
      "Epoch 20/100\n",
      "101/101 [==============================] - 0s 84us/step - loss: 0.5938\n",
      "Epoch 21/100\n",
      "101/101 [==============================] - 0s 104us/step - loss: 0.5681\n",
      "Epoch 22/100\n",
      "101/101 [==============================] - ETA: 0s - loss: 0.663 - 0s 94us/step - loss: 0.5432\n",
      "Epoch 23/100\n",
      "101/101 [==============================] - 0s 94us/step - loss: 0.5226\n",
      "Epoch 24/100\n",
      "101/101 [==============================] - 0s 104us/step - loss: 0.5019\n",
      "Epoch 25/100\n",
      "101/101 [==============================] - 0s 104us/step - loss: 0.4781\n",
      "Epoch 26/100\n",
      "101/101 [==============================] - 0s 99us/step - loss: 0.4586\n",
      "Epoch 27/100\n",
      "101/101 [==============================] - 0s 119us/step - loss: 0.4356\n",
      "Epoch 28/100\n",
      "101/101 [==============================] - 0s 94us/step - loss: 0.4207\n",
      "Epoch 29/100\n",
      "101/101 [==============================] - 0s 119us/step - loss: 0.4045\n",
      "Epoch 30/100\n",
      "101/101 [==============================] - 0s 119us/step - loss: 0.3882\n",
      "Epoch 31/100\n",
      "101/101 [==============================] - 0s 119us/step - loss: 0.3744\n",
      "Epoch 32/100\n",
      "101/101 [==============================] - 0s 104us/step - loss: 0.3613\n",
      "Epoch 33/100\n",
      "101/101 [==============================] - 0s 114us/step - loss: 0.3491\n",
      "Epoch 34/100\n",
      "101/101 [==============================] - 0s 99us/step - loss: 0.3354\n",
      "Epoch 35/100\n",
      "101/101 [==============================] - 0s 84us/step - loss: 0.3246\n",
      "Epoch 36/100\n",
      "101/101 [==============================] - 0s 99us/step - loss: 0.3139\n",
      "Epoch 37/100\n",
      "101/101 [==============================] - 0s 84us/step - loss: 0.3049\n",
      "Epoch 38/100\n",
      "101/101 [==============================] - 0s 94us/step - loss: 0.2947\n",
      "Epoch 39/100\n",
      "101/101 [==============================] - 0s 129us/step - loss: 0.2847\n",
      "Epoch 40/100\n",
      "101/101 [==============================] - 0s 89us/step - loss: 0.2763\n",
      "Epoch 41/100\n",
      "101/101 [==============================] - 0s 99us/step - loss: 0.2678\n",
      "Epoch 42/100\n",
      "101/101 [==============================] - 0s 104us/step - loss: 0.2581\n",
      "Epoch 43/100\n",
      "101/101 [==============================] - 0s 79us/step - loss: 0.2502\n",
      "Epoch 44/100\n",
      "101/101 [==============================] - 0s 79us/step - loss: 0.2432\n",
      "Epoch 45/100\n",
      "101/101 [==============================] - 0s 99us/step - loss: 0.2351\n",
      "Epoch 46/100\n",
      "101/101 [==============================] - 0s 69us/step - loss: 0.2276\n",
      "Epoch 47/100\n",
      "101/101 [==============================] - 0s 84us/step - loss: 0.2223\n",
      "Epoch 48/100\n",
      "101/101 [==============================] - 0s 104us/step - loss: 0.2159\n",
      "Epoch 49/100\n",
      "101/101 [==============================] - 0s 89us/step - loss: 0.2100\n",
      "Epoch 50/100\n",
      "101/101 [==============================] - 0s 119us/step - loss: 0.2060\n",
      "Epoch 51/100\n",
      "101/101 [==============================] - 0s 84us/step - loss: 0.2009\n",
      "Epoch 52/100\n",
      "101/101 [==============================] - 0s 114us/step - loss: 0.1971\n",
      "Epoch 53/100\n",
      "101/101 [==============================] - 0s 104us/step - loss: 0.1933\n",
      "Epoch 54/100\n",
      "101/101 [==============================] - 0s 104us/step - loss: 0.1899\n",
      "Epoch 55/100\n",
      "101/101 [==============================] - 0s 104us/step - loss: 0.1865\n",
      "Epoch 56/100\n",
      "101/101 [==============================] - 0s 94us/step - loss: 0.1827\n",
      "Epoch 57/100\n",
      "101/101 [==============================] - 0s 114us/step - loss: 0.1788\n",
      "Epoch 58/100\n",
      "101/101 [==============================] - 0s 109us/step - loss: 0.1757\n",
      "Epoch 59/100\n",
      "101/101 [==============================] - 0s 89us/step - loss: 0.1724\n",
      "Epoch 60/100\n",
      "101/101 [==============================] - 0s 79us/step - loss: 0.1689\n",
      "Epoch 61/100\n",
      "101/101 [==============================] - 0s 74us/step - loss: 0.1656\n",
      "Epoch 62/100\n",
      "101/101 [==============================] - 0s 129us/step - loss: 0.1629\n",
      "Epoch 63/100\n",
      "101/101 [==============================] - 0s 164us/step - loss: 0.1597\n",
      "Epoch 64/100\n",
      "101/101 [==============================] - 0s 79us/step - loss: 0.1570\n",
      "Epoch 65/100\n",
      "101/101 [==============================] - 0s 119us/step - loss: 0.1548\n",
      "Epoch 66/100\n",
      "101/101 [==============================] - 0s 94us/step - loss: 0.1526\n",
      "Epoch 67/100\n",
      "101/101 [==============================] - 0s 104us/step - loss: 0.1506\n",
      "Epoch 68/100\n",
      "101/101 [==============================] - 0s 79us/step - loss: 0.1485\n",
      "Epoch 69/100\n",
      "101/101 [==============================] - 0s 104us/step - loss: 0.1465\n",
      "Epoch 70/100\n",
      "101/101 [==============================] - 0s 99us/step - loss: 0.1448\n",
      "Epoch 71/100\n",
      "101/101 [==============================] - 0s 89us/step - loss: 0.1431\n",
      "Epoch 72/100\n",
      "101/101 [==============================] - 0s 114us/step - loss: 0.1415\n",
      "Epoch 73/100\n",
      "101/101 [==============================] - 0s 94us/step - loss: 0.1401\n",
      "Epoch 74/100\n",
      "101/101 [==============================] - 0s 84us/step - loss: 0.1385\n",
      "Epoch 75/100\n",
      "101/101 [==============================] - 0s 129us/step - loss: 0.1371\n",
      "Epoch 76/100\n",
      "101/101 [==============================] - 0s 84us/step - loss: 0.1357\n",
      "Epoch 77/100\n",
      "101/101 [==============================] - 0s 114us/step - loss: 0.1344\n",
      "Epoch 78/100\n",
      "101/101 [==============================] - 0s 74us/step - loss: 0.1333\n",
      "Epoch 79/100\n",
      "101/101 [==============================] - 0s 109us/step - loss: 0.1323\n",
      "Epoch 80/100\n",
      "101/101 [==============================] - 0s 104us/step - loss: 0.1310\n",
      "Epoch 81/100\n",
      "101/101 [==============================] - 0s 79us/step - loss: 0.1300\n",
      "Epoch 82/100\n",
      "101/101 [==============================] - 0s 89us/step - loss: 0.1292\n",
      "Epoch 83/100\n",
      "101/101 [==============================] - 0s 79us/step - loss: 0.1282\n",
      "Epoch 84/100\n",
      "101/101 [==============================] - 0s 99us/step - loss: 0.1275\n",
      "Epoch 85/100\n",
      "101/101 [==============================] - 0s 124us/step - loss: 0.1267\n",
      "Epoch 86/100\n",
      "101/101 [==============================] - 0s 99us/step - loss: 0.1258\n",
      "Epoch 87/100\n",
      "101/101 [==============================] - 0s 94us/step - loss: 0.1251\n",
      "Epoch 88/100\n",
      "101/101 [==============================] - 0s 119us/step - loss: 0.1242\n",
      "Epoch 89/100\n",
      "101/101 [==============================] - 0s 104us/step - loss: 0.1235\n",
      "Epoch 90/100\n",
      "101/101 [==============================] - 0s 99us/step - loss: 0.1227\n",
      "Epoch 91/100\n",
      "101/101 [==============================] - 0s 79us/step - loss: 0.1222\n",
      "Epoch 92/100\n",
      "101/101 [==============================] - 0s 109us/step - loss: 0.1215\n",
      "Epoch 93/100\n",
      "101/101 [==============================] - 0s 114us/step - loss: 0.1209\n",
      "Epoch 94/100\n",
      "101/101 [==============================] - 0s 79us/step - loss: 0.1200\n",
      "Epoch 95/100\n",
      "101/101 [==============================] - 0s 89us/step - loss: 0.1196\n",
      "Epoch 96/100\n",
      "101/101 [==============================] - 0s 74us/step - loss: 0.1195\n",
      "Epoch 97/100\n"
     ]
    },
    {
     "name": "stdout",
     "output_type": "stream",
     "text": [
      "101/101 [==============================] - 0s 109us/step - loss: 0.1190\n",
      "Epoch 98/100\n",
      "101/101 [==============================] - 0s 124us/step - loss: 0.1187\n",
      "Epoch 99/100\n",
      "101/101 [==============================] - 0s 84us/step - loss: 0.1182\n",
      "Epoch 100/100\n",
      "101/101 [==============================] - 0s 74us/step - loss: 0.1178\n"
     ]
    },
    {
     "data": {
      "text/plain": [
       "<keras.callbacks.History at 0x22ad8d45dd8>"
      ]
     },
     "execution_count": 21,
     "metadata": {},
     "output_type": "execute_result"
    }
   ],
   "source": [
    "# Train\n",
    "model.fit(X_train, y_train, nb_epoch=100, verbose=1)"
   ]
  },
  {
   "cell_type": "code",
   "execution_count": 22,
   "metadata": {},
   "outputs": [
    {
     "name": "stdout",
     "output_type": "stream",
     "text": [
      "Linear regression model is trained with weight w: 1.90, b: 0.01\n"
     ]
    }
   ],
   "source": [
    "# Print trained weights\n",
    "weights = model.layers[0].get_weights()\n",
    "w = weights[0][0][0]\n",
    "b = weights[1][0]\n",
    "print('Linear regression model is trained with weight w: %.2f, b: %.2f' % (w, b))"
   ]
  },
  {
   "cell_type": "code",
   "execution_count": 23,
   "metadata": {},
   "outputs": [
    {
     "data": {
      "image/png": "[encoded data removed]",
      "text/plain": [
       "<Figure size 432x288 with 1 Axes>"
      ]
     },
     "metadata": {},
     "output_type": "display_data"
    }
   ],
   "source": [
    "plt.plot(X_train, y_train, label='data')\n",
    "plt.plot(X_train, w_init*X_train + b_init, label='init')\n",
    "plt.plot(X_train, w*X_train + b, label='prediction')\n",
    "plt.legend()\n",
    "plt.show()"
   ]
  },
  {
   "cell_type": "code",
   "execution_count": 24,
   "metadata": {},
   "outputs": [
    {
     "data": {
      "image/svg+xml": [
       "<svg height=\"118pt\" viewBox=\"0.00 0.00 112.00 118.00\" width=\"112pt\" xmlns=\"http://www.w3.org/2000/svg\" xmlns:xlink=\"http://www.w3.org/1999/xlink\">\n",
       "<g class=\"graph\" id=\"graph0\" transform=\"scale(1 1) rotate(0) translate(4 114)\">\n",
       "<title>G</title>\n",
       "<polygon fill=\"white\" points=\"-4,4 -4,-114 108,-114 108,4 -4,4\" stroke=\"none\"/>\n",
       "<!-- 2383048321120 -->\n",
       "<g class=\"node\" id=\"node1\"><title>2383048321120</title>\n",
       "<polygon fill=\"none\" points=\"0,-0.5 0,-36.5 104,-36.5 104,-0.5 0,-0.5\" stroke=\"black\"/>\n",
       "<text font-family=\"Times New Roman,serif\" font-size=\"14.00\" text-anchor=\"middle\" x=\"52\" y=\"-14.8\">dense_3: Dense</text>\n",
       "</g>\n",
       "<!-- 2383048507856 -->\n",
       "<g class=\"node\" id=\"node2\"><title>2383048507856</title>\n",
       "<polygon fill=\"none\" points=\"0,-73.5 0,-109.5 104,-109.5 104,-73.5 0,-73.5\" stroke=\"black\"/>\n",
       "<text font-family=\"Times New Roman,serif\" font-size=\"14.00\" text-anchor=\"middle\" x=\"52\" y=\"-87.8\">2383048507856</text>\n",
       "</g>\n",
       "<!-- 2383048507856&#45;&gt;2383048321120 -->\n",
       "<g class=\"edge\" id=\"edge1\"><title>2383048507856-&gt;2383048321120</title>\n",
       "<path d=\"M52,-73.3129C52,-65.2895 52,-55.5475 52,-46.5691\" fill=\"none\" stroke=\"black\"/>\n",
       "<polygon fill=\"black\" points=\"55.5001,-46.5288 52,-36.5288 48.5001,-46.5289 55.5001,-46.5288\" stroke=\"black\"/>\n",
       "</g>\n",
       "</g>\n",
       "</svg>"
      ],
      "text/plain": [
       "<IPython.core.display.SVG object>"
      ]
     },
     "execution_count": 24,
     "metadata": {},
     "output_type": "execute_result"
    }
   ],
   "source": [
    "from IPython.display import SVG\n",
    "from keras.utils.vis_utils import model_to_dot\n",
    "\n",
    "SVG(model_to_dot(model).create(prog='dot', format='svg'))"
   ]
  },
  {
   "cell_type": "code",
   "execution_count": null,
   "metadata": {},
   "outputs": [],
   "source": []
  }
 ],
 "metadata": {
  "kernelspec": {
   "display_name": "Python 3",
   "language": "python",
   "name": "python3"
  },
  "language_info": {
   "codemirror_mode": {
    "name": "ipython",
    "version": 3
   },
   "file_extension": ".py",
   "mimetype": "text/x-python",
   "name": "python",
   "nbconvert_exporter": "python",
   "pygments_lexer": "ipython3",
   "version": "3.6.5"
  }
 },
 "nbformat": 4,
 "nbformat_minor": 1
}
