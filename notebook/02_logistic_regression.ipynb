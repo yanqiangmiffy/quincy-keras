{
 "cells": [
  {
   "cell_type": "code",
   "execution_count": 2,
   "metadata": {},
   "outputs": [],
   "source": [
    "from keras.models import Sequential\n",
    "from keras.layers import Dense\n",
    "from keras.optimizers import SGD\n",
    "from keras.datasets import mnist\n",
    "from keras.utils import np_utils"
   ]
  },
  {
   "cell_type": "code",
   "execution_count": 3,
   "metadata": {},
   "outputs": [],
   "source": [
    "batch_size=128\n",
    "n_classes=10\n",
    "n_epoch=100"
   ]
  },
  {
   "cell_type": "code",
   "execution_count": 4,
   "metadata": {},
   "outputs": [],
   "source": [
    "# 加载MNIST数据集\n",
    "(X_train, y_train), (X_test, y_test) = mnist.load_data()\n",
    "X_train = X_train.reshape(60000, 784)\n",
    "X_test = X_test.reshape(10000, 784)\n",
    "X_train = X_train.astype('float32')\n",
    "X_test = X_test.astype('float32')\n",
    "X_train /= 255\n",
    "X_test /= 255\n",
    "y_train = np_utils.to_categorical(y_train, n_classes)\n",
    "y_test = np_utils.to_categorical(y_test, n_classes)"
   ]
  },
  {
   "cell_type": "code",
   "execution_count": 5,
   "metadata": {},
   "outputs": [
    {
     "name": "stdout",
     "output_type": "stream",
     "text": [
      "_________________________________________________________________\n",
      "Layer (type)                 Output Shape              Param #   \n",
      "=================================================================\n",
      "dense_1 (Dense)              (None, 10)                7850      \n",
      "=================================================================\n",
      "Total params: 7,850\n",
      "Trainable params: 7,850\n",
      "Non-trainable params: 0\n",
      "_________________________________________________________________\n"
     ]
    },
    {
     "name": "stderr",
     "output_type": "stream",
     "text": [
      "E:\\ProgramData\\Anaconda3\\lib\\site-packages\\ipykernel_launcher.py:3: UserWarning: Update your `Dense` call to the Keras 2 API: `Dense(input_shape=(784,), activation=\"softmax\", units=10, kernel_initializer=\"normal\")`\n",
      "  This is separate from the ipykernel package so we can avoid doing imports until\n"
     ]
    }
   ],
   "source": [
    "# 逻辑回归模型\n",
    "model = Sequential()\n",
    "model.add(Dense(output_dim=10, input_shape=(784,), init='normal', activation='softmax'))\n",
    "model.compile(optimizer=SGD(lr=0.05), loss='categorical_crossentropy', metrics=['accuracy'])\n",
    "model.summary()"
   ]
  },
  {
   "cell_type": "code",
   "execution_count": 8,
   "metadata": {
    "scrolled": false
   },
   "outputs": [
    {
     "name": "stderr",
     "output_type": "stream",
     "text": [
      "E:\\ProgramData\\Anaconda3\\lib\\site-packages\\ipykernel_launcher.py:1: UserWarning: The `nb_epoch` argument in `fit` has been renamed `epochs`.\n",
      "  \"\"\"Entry point for launching an IPython kernel.\n"
     ]
    },
    {
     "name": "stdout",
     "output_type": "stream",
     "text": [
      "Epoch 1/100\n",
      "60000/60000 [==============================] - 3s 45us/step - loss: 0.7364 - acc: 0.8197\n",
      "Epoch 2/100\n",
      "60000/60000 [==============================] - 1s 16us/step - loss: 0.4356 - acc: 0.8840\n",
      "Epoch 3/100\n",
      "60000/60000 [==============================] - 1s 17us/step - loss: 0.3878 - acc: 0.8944\n",
      "Epoch 4/100\n",
      "60000/60000 [==============================] - 1s 18us/step - loss: 0.3637 - acc: 0.8998\n",
      "Epoch 5/100\n",
      "60000/60000 [==============================] - 1s 18us/step - loss: 0.3484 - acc: 0.9029\n",
      "Epoch 6/100\n",
      "60000/60000 [==============================] - 1s 16us/step - loss: 0.3375 - acc: 0.9057\n",
      "Epoch 7/100\n",
      "60000/60000 [==============================] - 1s 18us/step - loss: 0.3292 - acc: 0.9087\n",
      "Epoch 8/100\n",
      "60000/60000 [==============================] - 1s 17us/step - loss: 0.3228 - acc: 0.9101\n",
      "Epoch 9/100\n",
      "60000/60000 [==============================] - 1s 16us/step - loss: 0.3173 - acc: 0.9119\n",
      "Epoch 10/100\n",
      "60000/60000 [==============================] - 1s 16us/step - loss: 0.3128 - acc: 0.9132\n",
      "Epoch 11/100\n",
      "60000/60000 [==============================] - 1s 16us/step - loss: 0.3088 - acc: 0.9142\n",
      "Epoch 12/100\n",
      "60000/60000 [==============================] - 1s 16us/step - loss: 0.3056 - acc: 0.9152\n",
      "Epoch 13/100\n",
      "60000/60000 [==============================] - 1s 17us/step - loss: 0.3026 - acc: 0.9156\n",
      "Epoch 14/100\n",
      "60000/60000 [==============================] - 1s 17us/step - loss: 0.3001 - acc: 0.9163\n",
      "Epoch 15/100\n",
      "60000/60000 [==============================] - 1s 17us/step - loss: 0.2977 - acc: 0.9174\n",
      "Epoch 16/100\n",
      "60000/60000 [==============================] - 1s 18us/step - loss: 0.2956 - acc: 0.9179\n",
      "Epoch 17/100\n",
      "60000/60000 [==============================] - 1s 16us/step - loss: 0.2936 - acc: 0.9183\n",
      "Epoch 18/100\n",
      "60000/60000 [==============================] - 1s 17us/step - loss: 0.2919 - acc: 0.9186: 0s - loss: 0.2895 \n",
      "Epoch 19/100\n",
      "60000/60000 [==============================] - 1s 16us/step - loss: 0.2902 - acc: 0.9192\n",
      "Epoch 20/100\n",
      "60000/60000 [==============================] - 1s 16us/step - loss: 0.2886 - acc: 0.9196\n",
      "Epoch 21/100\n",
      "60000/60000 [==============================] - 1s 16us/step - loss: 0.2873 - acc: 0.9202\n",
      "Epoch 22/100\n",
      "60000/60000 [==============================] - 1s 17us/step - loss: 0.2860 - acc: 0.9201\n",
      "Epoch 23/100\n",
      "60000/60000 [==============================] - 1s 18us/step - loss: 0.2848 - acc: 0.9207\n",
      "Epoch 24/100\n",
      "60000/60000 [==============================] - 1s 17us/step - loss: 0.2836 - acc: 0.9209\n",
      "Epoch 25/100\n",
      "60000/60000 [==============================] - 1s 19us/step - loss: 0.2826 - acc: 0.9210\n",
      "Epoch 26/100\n",
      "60000/60000 [==============================] - 1s 18us/step - loss: 0.2814 - acc: 0.9219\n",
      "Epoch 27/100\n",
      "60000/60000 [==============================] - 1s 20us/step - loss: 0.2806 - acc: 0.9219\n",
      "Epoch 28/100\n",
      "60000/60000 [==============================] - 1s 18us/step - loss: 0.2796 - acc: 0.9222\n",
      "Epoch 29/100\n",
      "60000/60000 [==============================] - 1s 19us/step - loss: 0.2788 - acc: 0.9227\n",
      "Epoch 30/100\n",
      "60000/60000 [==============================] - 1s 19us/step - loss: 0.2780 - acc: 0.9227\n",
      "Epoch 31/100\n",
      "60000/60000 [==============================] - 1s 17us/step - loss: 0.2770 - acc: 0.9227\n",
      "Epoch 32/100\n",
      "60000/60000 [==============================] - 1s 16us/step - loss: 0.2762 - acc: 0.9232\n",
      "Epoch 33/100\n",
      "60000/60000 [==============================] - 1s 16us/step - loss: 0.2757 - acc: 0.9234\n",
      "Epoch 34/100\n",
      "60000/60000 [==============================] - 1s 16us/step - loss: 0.2749 - acc: 0.9236\n",
      "Epoch 35/100\n",
      "60000/60000 [==============================] - 1s 16us/step - loss: 0.2742 - acc: 0.9237\n",
      "Epoch 36/100\n",
      "60000/60000 [==============================] - 1s 16us/step - loss: 0.2737 - acc: 0.9237\n",
      "Epoch 37/100\n",
      "60000/60000 [==============================] - 1s 17us/step - loss: 0.2731 - acc: 0.9243\n",
      "Epoch 38/100\n",
      "60000/60000 [==============================] - 1s 16us/step - loss: 0.2726 - acc: 0.9244\n",
      "Epoch 39/100\n",
      "60000/60000 [==============================] - 1s 16us/step - loss: 0.2719 - acc: 0.9249\n",
      "Epoch 40/100\n",
      "60000/60000 [==============================] - 1s 16us/step - loss: 0.2713 - acc: 0.9252\n",
      "Epoch 41/100\n",
      "60000/60000 [==============================] - 1s 16us/step - loss: 0.2709 - acc: 0.9250\n",
      "Epoch 42/100\n",
      "60000/60000 [==============================] - 1s 17us/step - loss: 0.2704 - acc: 0.9248\n",
      "Epoch 43/100\n",
      "60000/60000 [==============================] - 1s 17us/step - loss: 0.2697 - acc: 0.9252\n",
      "Epoch 44/100\n",
      "60000/60000 [==============================] - 1s 17us/step - loss: 0.2693 - acc: 0.9253\n",
      "Epoch 45/100\n",
      "60000/60000 [==============================] - 1s 17us/step - loss: 0.2688 - acc: 0.9255\n",
      "Epoch 46/100\n",
      "60000/60000 [==============================] - 1s 16us/step - loss: 0.2683 - acc: 0.9255\n",
      "Epoch 47/100\n",
      "60000/60000 [==============================] - 1s 16us/step - loss: 0.2679 - acc: 0.9258\n",
      "Epoch 48/100\n",
      "60000/60000 [==============================] - 1s 16us/step - loss: 0.2674 - acc: 0.9259\n",
      "Epoch 49/100\n",
      "60000/60000 [==============================] - 1s 16us/step - loss: 0.2671 - acc: 0.9264\n",
      "Epoch 50/100\n",
      "60000/60000 [==============================] - 1s 17us/step - loss: 0.2667 - acc: 0.9263\n",
      "Epoch 51/100\n",
      "60000/60000 [==============================] - 1s 16us/step - loss: 0.2663 - acc: 0.9264\n",
      "Epoch 52/100\n",
      "60000/60000 [==============================] - 1s 16us/step - loss: 0.2659 - acc: 0.9263\n",
      "Epoch 53/100\n",
      "60000/60000 [==============================] - 1s 16us/step - loss: 0.2656 - acc: 0.9263\n",
      "Epoch 54/100\n",
      "60000/60000 [==============================] - 1s 16us/step - loss: 0.2652 - acc: 0.9267\n",
      "Epoch 55/100\n",
      "60000/60000 [==============================] - 1s 17us/step - loss: 0.2648 - acc: 0.9269\n",
      "Epoch 56/100\n",
      "60000/60000 [==============================] - 1s 16us/step - loss: 0.2645 - acc: 0.9271\n",
      "Epoch 57/100\n",
      "60000/60000 [==============================] - 1s 16us/step - loss: 0.2642 - acc: 0.9271\n",
      "Epoch 58/100\n",
      "60000/60000 [==============================] - 1s 16us/step - loss: 0.2637 - acc: 0.9272\n",
      "Epoch 59/100\n",
      "60000/60000 [==============================] - 1s 16us/step - loss: 0.2634 - acc: 0.9270: 0s - loss: 0.2661 - acc\n",
      "Epoch 60/100\n",
      "60000/60000 [==============================] - 1s 16us/step - loss: 0.2631 - acc: 0.9275\n",
      "Epoch 61/100\n",
      "60000/60000 [==============================] - 1s 16us/step - loss: 0.2627 - acc: 0.9274\n",
      "Epoch 62/100\n",
      "60000/60000 [==============================] - 1s 16us/step - loss: 0.2624 - acc: 0.9274\n",
      "Epoch 63/100\n",
      "60000/60000 [==============================] - 1s 16us/step - loss: 0.2621 - acc: 0.9279\n",
      "Epoch 64/100\n",
      "60000/60000 [==============================] - 1s 16us/step - loss: 0.2620 - acc: 0.9276: 0s - loss: 0.2645 - acc: 0.9\n",
      "Epoch 65/100\n",
      "60000/60000 [==============================] - 1s 17us/step - loss: 0.2615 - acc: 0.9282\n",
      "Epoch 66/100\n",
      "60000/60000 [==============================] - 1s 17us/step - loss: 0.2613 - acc: 0.9278\n",
      "Epoch 67/100\n",
      "60000/60000 [==============================] - 1s 18us/step - loss: 0.2610 - acc: 0.9281\n",
      "Epoch 68/100\n",
      "60000/60000 [==============================] - 1s 20us/step - loss: 0.2607 - acc: 0.9282\n",
      "Epoch 69/100\n",
      "60000/60000 [==============================] - 1s 18us/step - loss: 0.2606 - acc: 0.9284\n",
      "Epoch 70/100\n",
      "60000/60000 [==============================] - 1s 20us/step - loss: 0.2603 - acc: 0.9280\n",
      "Epoch 71/100\n",
      "60000/60000 [==============================] - 1s 18us/step - loss: 0.2600 - acc: 0.9282\n",
      "Epoch 72/100\n",
      "60000/60000 [==============================] - 1s 16us/step - loss: 0.2598 - acc: 0.9282\n",
      "Epoch 73/100\n",
      "60000/60000 [==============================] - 1s 17us/step - loss: 0.2595 - acc: 0.9283\n",
      "Epoch 74/100\n",
      "60000/60000 [==============================] - 1s 18us/step - loss: 0.2594 - acc: 0.9287\n",
      "Epoch 75/100\n",
      "60000/60000 [==============================] - 1s 19us/step - loss: 0.2590 - acc: 0.9285\n",
      "Epoch 76/100\n",
      "60000/60000 [==============================] - 1s 18us/step - loss: 0.2588 - acc: 0.9288\n",
      "Epoch 77/100\n",
      "60000/60000 [==============================] - 1s 18us/step - loss: 0.2585 - acc: 0.9291\n",
      "Epoch 78/100\n",
      "60000/60000 [==============================] - 1s 16us/step - loss: 0.2584 - acc: 0.9286\n",
      "Epoch 79/100\n",
      "60000/60000 [==============================] - 1s 16us/step - loss: 0.2582 - acc: 0.9291\n",
      "Epoch 80/100\n",
      "60000/60000 [==============================] - 1s 16us/step - loss: 0.2580 - acc: 0.9290\n",
      "Epoch 81/100\n",
      "60000/60000 [==============================] - 1s 17us/step - loss: 0.2577 - acc: 0.9291\n",
      "Epoch 82/100\n",
      "60000/60000 [==============================] - 1s 16us/step - loss: 0.2574 - acc: 0.9292\n",
      "Epoch 83/100\n",
      "60000/60000 [==============================] - 1s 16us/step - loss: 0.2573 - acc: 0.9289\n",
      "Epoch 84/100\n",
      "60000/60000 [==============================] - 1s 16us/step - loss: 0.2570 - acc: 0.9291\n",
      "Epoch 85/100\n",
      "60000/60000 [==============================] - 1s 17us/step - loss: 0.2568 - acc: 0.9292\n",
      "Epoch 86/100\n",
      "60000/60000 [==============================] - 1s 16us/step - loss: 0.2567 - acc: 0.9292\n",
      "Epoch 87/100\n",
      "60000/60000 [==============================] - 1s 16us/step - loss: 0.2565 - acc: 0.9291\n",
      "Epoch 88/100\n",
      "60000/60000 [==============================] - 1s 16us/step - loss: 0.2563 - acc: 0.9296\n",
      "Epoch 89/100\n",
      "60000/60000 [==============================] - 1s 17us/step - loss: 0.2561 - acc: 0.9295\n",
      "Epoch 90/100\n",
      "60000/60000 [==============================] - 1s 18us/step - loss: 0.2559 - acc: 0.9296\n",
      "Epoch 91/100\n",
      "60000/60000 [==============================] - 1s 18us/step - loss: 0.2557 - acc: 0.9295\n",
      "Epoch 92/100\n",
      "60000/60000 [==============================] - 1s 16us/step - loss: 0.2556 - acc: 0.9297\n",
      "Epoch 93/100\n",
      "60000/60000 [==============================] - 1s 16us/step - loss: 0.2553 - acc: 0.9299\n",
      "Epoch 94/100\n",
      "60000/60000 [==============================] - 1s 16us/step - loss: 0.2552 - acc: 0.9295\n",
      "Epoch 95/100\n",
      "60000/60000 [==============================] - 1s 17us/step - loss: 0.2550 - acc: 0.9298\n",
      "Epoch 96/100\n",
      "60000/60000 [==============================] - 1s 18us/step - loss: 0.2548 - acc: 0.9297\n",
      "Epoch 97/100\n",
      "60000/60000 [==============================] - 1s 17us/step - loss: 0.2546 - acc: 0.9298\n",
      "Epoch 98/100\n",
      "60000/60000 [==============================] - 1s 17us/step - loss: 0.2544 - acc: 0.9299\n",
      "Epoch 99/100\n",
      "60000/60000 [==============================] - 1s 16us/step - loss: 0.2543 - acc: 0.9301\n",
      "Epoch 100/100\n",
      "60000/60000 [==============================] - 1s 16us/step - loss: 0.2542 - acc: 0.9300\n"
     ]
    }
   ],
   "source": [
    "# 训练\n",
    "history=model.fit(X_train,y_train,nb_epoch=n_epoch,batch_size=batch_size,verbose=1)"
   ]
  },
  {
   "cell_type": "code",
   "execution_count": 10,
   "metadata": {},
   "outputs": [
    {
     "name": "stdout",
     "output_type": "stream",
     "text": [
      "10000/10000 [==============================] - 0s 28us/step\n",
      "Summary: Loss over the test dataset: 0.27, Accuracy: 0.92\n"
     ]
    }
   ],
   "source": [
    "# 评估模型\n",
    "evaluation=model.evaluate(X_test,y_test,verbose=1)\n",
    "print('Summary: Loss over the test dataset: %.2f, Accuracy: %.2f' % (evaluation[0], evaluation[1]))"
   ]
  },
  {
   "cell_type": "code",
   "execution_count": 11,
   "metadata": {},
   "outputs": [
    {
     "data": {
      "image/svg+xml": [
       "<svg height=\"118pt\" viewBox=\"0.00 0.00 112.00 118.00\" width=\"112pt\" xmlns=\"http://www.w3.org/2000/svg\" xmlns:xlink=\"http://www.w3.org/1999/xlink\">\n",
       "<g class=\"graph\" id=\"graph0\" transform=\"scale(1 1) rotate(0) translate(4 114)\">\n",
       "<title>G</title>\n",
       "<polygon fill=\"white\" points=\"-4,4 -4,-114 108,-114 108,4 -4,4\" stroke=\"none\"/>\n",
       "<!-- 2632461720096 -->\n",
       "<g class=\"node\" id=\"node1\"><title>2632461720096</title>\n",
       "<polygon fill=\"none\" points=\"0,-0.5 0,-36.5 104,-36.5 104,-0.5 0,-0.5\" stroke=\"black\"/>\n",
       "<text font-family=\"Times New Roman,serif\" font-size=\"14.00\" text-anchor=\"middle\" x=\"52\" y=\"-14.8\">dense_1: Dense</text>\n",
       "</g>\n",
       "<!-- 2632718922136 -->\n",
       "<g class=\"node\" id=\"node2\"><title>2632718922136</title>\n",
       "<polygon fill=\"none\" points=\"0,-73.5 0,-109.5 104,-109.5 104,-73.5 0,-73.5\" stroke=\"black\"/>\n",
       "<text font-family=\"Times New Roman,serif\" font-size=\"14.00\" text-anchor=\"middle\" x=\"52\" y=\"-87.8\">2632718922136</text>\n",
       "</g>\n",
       "<!-- 2632718922136&#45;&gt;2632461720096 -->\n",
       "<g class=\"edge\" id=\"edge1\"><title>2632718922136-&gt;2632461720096</title>\n",
       "<path d=\"M52,-73.3129C52,-65.2895 52,-55.5475 52,-46.5691\" fill=\"none\" stroke=\"black\"/>\n",
       "<polygon fill=\"black\" points=\"55.5001,-46.5288 52,-36.5288 48.5001,-46.5289 55.5001,-46.5288\" stroke=\"black\"/>\n",
       "</g>\n",
       "</g>\n",
       "</svg>"
      ],
      "text/plain": [
       "<IPython.core.display.SVG object>"
      ]
     },
     "execution_count": 11,
     "metadata": {},
     "output_type": "execute_result"
    }
   ],
   "source": [
    "from IPython.display import SVG\n",
    "from keras.utils.vis_utils import model_to_dot\n",
    "\n",
    "SVG(model_to_dot(model).create(prog='dot', format='svg'))"
   ]
  },
  {
   "cell_type": "code",
   "execution_count": null,
   "metadata": {},
   "outputs": [],
   "source": []
  }
 ],
 "metadata": {
  "kernelspec": {
   "display_name": "Python 3",
   "language": "python",
   "name": "python3"
  },
  "language_info": {
   "codemirror_mode": {
    "name": "ipython",
    "version": 3
   },
   "file_extension": ".py",
   "mimetype": "text/x-python",
   "name": "python",
   "nbconvert_exporter": "python",
   "pygments_lexer": "ipython3",
   "version": "3.6.5"
  }
 },
 "nbformat": 4,
 "nbformat_minor": 1
}
