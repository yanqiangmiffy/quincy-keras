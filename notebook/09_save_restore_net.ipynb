{
 "cells": [
  {
   "cell_type": "code",
   "execution_count": 1,
   "metadata": {},
   "outputs": [
    {
     "name": "stderr",
     "output_type": "stream",
     "text": [
      "Using TensorFlow backend.\n"
     ]
    }
   ],
   "source": [
    "# !/usr/bin/env python  \n",
    "# -*- coding:utf-8 _*-  \n",
    "\"\"\" \n",
    "@Author:yanqiang \n",
    "@File: 09_save_restore_net.py.py \n",
    "@Time: 2018/11/29 15:35\n",
    "@Software: PyCharm \n",
    "@Description:\n",
    "\"\"\"\n",
    "from keras.models import Sequential\n",
    "from keras.models import save_model,load_model\n",
    "from keras.layers import Dense,Dropout\n",
    "from keras.optimizers import RMSprop\n",
    "from keras.utils import np_utils\n",
    "from keras.datasets import mnist\n",
    "from keras.callbacks import ModelCheckpoint"
   ]
  },
  {
   "cell_type": "code",
   "execution_count": 2,
   "metadata": {},
   "outputs": [],
   "source": [
    "# 参数设置\n",
    "batch_size=128\n",
    "n_epoch=20\n",
    "n_classes=10\n",
    "prob_drop_input=0.2\n",
    "prob_drop_hidden=0.2"
   ]
  },
  {
   "cell_type": "code",
   "execution_count": 3,
   "metadata": {},
   "outputs": [],
   "source": [
    "# 加载数据\n",
    "(X_train,y_train),(X_test,y_test)=mnist.load_data()\n",
    "X_train=X_train.astype('float32')/255.\n",
    "X_test=X_test.astype('float32')/255.\n",
    "X_train=X_train.reshape(60000,784)\n",
    "X_test=X_test.reshape(10000,784)\n",
    "y_train=np_utils.to_categorical(y_train,num_classes=n_classes)\n",
    "y_test=np_utils.to_categorical(y_test,num_classes=n_classes)\n"
   ]
  },
  {
   "cell_type": "code",
   "execution_count": 4,
   "metadata": {},
   "outputs": [
    {
     "name": "stdout",
     "output_type": "stream",
     "text": [
      "_________________________________________________________________\n",
      "Layer (type)                 Output Shape              Param #   \n",
      "=================================================================\n",
      "dense1 (Dense)               (None, 625)               490625    \n",
      "_________________________________________________________________\n",
      "dropout1 (Dropout)           (None, 625)               0         \n",
      "_________________________________________________________________\n",
      "dense2 (Dense)               (None, 625)               391250    \n",
      "_________________________________________________________________\n",
      "dropout2 (Dropout)           (None, 625)               0         \n",
      "_________________________________________________________________\n",
      "dense3 (Dense)               (None, 10)                6260      \n",
      "=================================================================\n",
      "Total params: 888,135\n",
      "Trainable params: 888,135\n",
      "Non-trainable params: 0\n",
      "_________________________________________________________________\n"
     ]
    },
    {
     "name": "stderr",
     "output_type": "stream",
     "text": [
      "E:\\ProgramData\\Anaconda3\\lib\\site-packages\\ipykernel_launcher.py:3: UserWarning: Update your `Dense` call to the Keras 2 API: `Dense(input_dim=784, kernel_initializer=\"random_normal\", activation=\"sigmoid\", name=\"dense1\", units=625)`\n",
      "  This is separate from the ipykernel package so we can avoid doing imports until\n",
      "E:\\ProgramData\\Anaconda3\\lib\\site-packages\\ipykernel_launcher.py:5: UserWarning: Update your `Dense` call to the Keras 2 API: `Dense(input_dim=625, kernel_initializer=\"random_normal\", activation=\"sigmoid\", name=\"dense2\", units=625)`\n",
      "  \"\"\"\n",
      "E:\\ProgramData\\Anaconda3\\lib\\site-packages\\ipykernel_launcher.py:7: UserWarning: Update your `Dense` call to the Keras 2 API: `Dense(input_dim=625, kernel_initializer=\"random_normal\", activation=\"softmax\", name=\"dense3\", units=10)`\n",
      "  import sys\n"
     ]
    }
   ],
   "source": [
    "# 构建模型\n",
    "model=Sequential()\n",
    "model.add(Dense(input_dim=784,output_dim=625,kernel_initializer='random_normal',activation='sigmoid',name='dense1'))\n",
    "model.add(Dropout(prob_drop_input,name='dropout1'))\n",
    "model.add(Dense(input_dim=625,output_dim=625,kernel_initializer='random_normal',activation='sigmoid',name='dense2'))\n",
    "model.add(Dropout(prob_drop_hidden,name=\"dropout2\"))\n",
    "model.add(Dense(input_dim=625,output_dim=10,kernel_initializer='random_normal',activation='softmax',name='dense3'))\n",
    "model.compile(optimizer=RMSprop(lr=0.001,rho=0.9),loss='categorical_crossentropy',metrics=['accuracy'])\n",
    "model.summary()"
   ]
  },
  {
   "cell_type": "code",
   "execution_count": null,
   "metadata": {},
   "outputs": [],
   "source": [
    "save_model(model,'./logs/model_mlp') # 保存模型\n",
    "checkpoint = ModelCheckpoint(filepath='./logs/weights.epoch.{epoch:02d}-val_loss.{val_loss:.2f}.hdf5',\n",
    "                             save_best_only=True,verbose=0)\n",
    "\n",
    "history=model.fit(X_train,y_train,\n",
    "                  epochs=n_epoch,\n",
    "                  batch_size=batch_size,\n",
    "                  verbose=1,\n",
    "                  callbacks=[checkpoint],\n",
    "                  validation_data=(X_test,y_test))\n",
    "\n",
    "# 模型评价\n",
    "evaluation=model.evaluate(X_test,y_test,verbose=1)\n",
    "print('\\nSummary: Loss over the test dataset: %.2f, Accuracy: %.2f' % (evaluation[0], evaluation[1]))"
   ]
  },
  {
   "cell_type": "code",
   "execution_count": null,
   "metadata": {},
   "outputs": [],
   "source": [
    "# 恢复模型\n",
    "loaded_model = load_model('./logs/model_mlp')\n",
    "loaded_model.load_weights('./logs/weights.epoch.09-val_loss.0.08.hdf5')\n",
    "loaded_model.summary()\n",
    "\n",
    "# 模型评价\n",
    "evaluation = loaded_model.evaluate(X_test, y_test, verbose=1)\n",
    "print('\\nSummary: Loss over the test dataset: %.2f, Accuracy: %.2f' % (evaluation[0], evaluation[1]))"
   ]
  },
  {
   "cell_type": "code",
   "execution_count": 6,
   "metadata": {},
   "outputs": [
    {
     "data": {
      "image/svg+xml": [
       "<svg height=\"460pt\" viewBox=\"0.00 0.00 269.00 460.00\" width=\"269pt\" xmlns=\"http://www.w3.org/2000/svg\" xmlns:xlink=\"http://www.w3.org/1999/xlink\">\n",
       "<g class=\"graph\" id=\"graph0\" transform=\"scale(1 1) rotate(0) translate(4 456)\">\n",
       "<title>G</title>\n",
       "<polygon fill=\"white\" points=\"-4,4 -4,-456 265,-456 265,4 -4,4\" stroke=\"none\"/>\n",
       "<!-- 2151468556864 -->\n",
       "<g class=\"node\" id=\"node1\"><title>2151468556864</title>\n",
       "<polygon fill=\"none\" points=\"12.5,-332.5 12.5,-378.5 248.5,-378.5 248.5,-332.5 12.5,-332.5\" stroke=\"black\"/>\n",
       "<text font-family=\"Times New Roman,serif\" font-size=\"14.00\" text-anchor=\"middle\" x=\"61\" y=\"-351.8\">dense1: Dense</text>\n",
       "<polyline fill=\"none\" points=\"109.5,-332.5 109.5,-378.5 \" stroke=\"black\"/>\n",
       "<text font-family=\"Times New Roman,serif\" font-size=\"14.00\" text-anchor=\"middle\" x=\"137.5\" y=\"-363.3\">input:</text>\n",
       "<polyline fill=\"none\" points=\"109.5,-355.5 165.5,-355.5 \" stroke=\"black\"/>\n",
       "<text font-family=\"Times New Roman,serif\" font-size=\"14.00\" text-anchor=\"middle\" x=\"137.5\" y=\"-340.3\">output:</text>\n",
       "<polyline fill=\"none\" points=\"165.5,-332.5 165.5,-378.5 \" stroke=\"black\"/>\n",
       "<text font-family=\"Times New Roman,serif\" font-size=\"14.00\" text-anchor=\"middle\" x=\"207\" y=\"-363.3\">(None, 784)</text>\n",
       "<polyline fill=\"none\" points=\"165.5,-355.5 248.5,-355.5 \" stroke=\"black\"/>\n",
       "<text font-family=\"Times New Roman,serif\" font-size=\"14.00\" text-anchor=\"middle\" x=\"207\" y=\"-340.3\">(None, 625)</text>\n",
       "</g>\n",
       "<!-- 2151468557480 -->\n",
       "<g class=\"node\" id=\"node2\"><title>2151468557480</title>\n",
       "<polygon fill=\"none\" points=\"0,-249.5 0,-295.5 261,-295.5 261,-249.5 0,-249.5\" stroke=\"black\"/>\n",
       "<text font-family=\"Times New Roman,serif\" font-size=\"14.00\" text-anchor=\"middle\" x=\"61\" y=\"-268.8\">dropout1: Dropout</text>\n",
       "<polyline fill=\"none\" points=\"122,-249.5 122,-295.5 \" stroke=\"black\"/>\n",
       "<text font-family=\"Times New Roman,serif\" font-size=\"14.00\" text-anchor=\"middle\" x=\"150\" y=\"-280.3\">input:</text>\n",
       "<polyline fill=\"none\" points=\"122,-272.5 178,-272.5 \" stroke=\"black\"/>\n",
       "<text font-family=\"Times New Roman,serif\" font-size=\"14.00\" text-anchor=\"middle\" x=\"150\" y=\"-257.3\">output:</text>\n",
       "<polyline fill=\"none\" points=\"178,-249.5 178,-295.5 \" stroke=\"black\"/>\n",
       "<text font-family=\"Times New Roman,serif\" font-size=\"14.00\" text-anchor=\"middle\" x=\"219.5\" y=\"-280.3\">(None, 625)</text>\n",
       "<polyline fill=\"none\" points=\"178,-272.5 261,-272.5 \" stroke=\"black\"/>\n",
       "<text font-family=\"Times New Roman,serif\" font-size=\"14.00\" text-anchor=\"middle\" x=\"219.5\" y=\"-257.3\">(None, 625)</text>\n",
       "</g>\n",
       "<!-- 2151468556864&#45;&gt;2151468557480 -->\n",
       "<g class=\"edge\" id=\"edge2\"><title>2151468556864-&gt;2151468557480</title>\n",
       "<path d=\"M130.5,-332.366C130.5,-324.152 130.5,-314.658 130.5,-305.725\" fill=\"none\" stroke=\"black\"/>\n",
       "<polygon fill=\"black\" points=\"134,-305.607 130.5,-295.607 127,-305.607 134,-305.607\" stroke=\"black\"/>\n",
       "</g>\n",
       "<!-- 2151468558544 -->\n",
       "<g class=\"node\" id=\"node3\"><title>2151468558544</title>\n",
       "<polygon fill=\"none\" points=\"12.5,-166.5 12.5,-212.5 248.5,-212.5 248.5,-166.5 12.5,-166.5\" stroke=\"black\"/>\n",
       "<text font-family=\"Times New Roman,serif\" font-size=\"14.00\" text-anchor=\"middle\" x=\"61\" y=\"-185.8\">dense2: Dense</text>\n",
       "<polyline fill=\"none\" points=\"109.5,-166.5 109.5,-212.5 \" stroke=\"black\"/>\n",
       "<text font-family=\"Times New Roman,serif\" font-size=\"14.00\" text-anchor=\"middle\" x=\"137.5\" y=\"-197.3\">input:</text>\n",
       "<polyline fill=\"none\" points=\"109.5,-189.5 165.5,-189.5 \" stroke=\"black\"/>\n",
       "<text font-family=\"Times New Roman,serif\" font-size=\"14.00\" text-anchor=\"middle\" x=\"137.5\" y=\"-174.3\">output:</text>\n",
       "<polyline fill=\"none\" points=\"165.5,-166.5 165.5,-212.5 \" stroke=\"black\"/>\n",
       "<text font-family=\"Times New Roman,serif\" font-size=\"14.00\" text-anchor=\"middle\" x=\"207\" y=\"-197.3\">(None, 625)</text>\n",
       "<polyline fill=\"none\" points=\"165.5,-189.5 248.5,-189.5 \" stroke=\"black\"/>\n",
       "<text font-family=\"Times New Roman,serif\" font-size=\"14.00\" text-anchor=\"middle\" x=\"207\" y=\"-174.3\">(None, 625)</text>\n",
       "</g>\n",
       "<!-- 2151468557480&#45;&gt;2151468558544 -->\n",
       "<g class=\"edge\" id=\"edge3\"><title>2151468557480-&gt;2151468558544</title>\n",
       "<path d=\"M130.5,-249.366C130.5,-241.152 130.5,-231.658 130.5,-222.725\" fill=\"none\" stroke=\"black\"/>\n",
       "<polygon fill=\"black\" points=\"134,-222.607 130.5,-212.607 127,-222.607 134,-222.607\" stroke=\"black\"/>\n",
       "</g>\n",
       "<!-- 2151468558040 -->\n",
       "<g class=\"node\" id=\"node4\"><title>2151468558040</title>\n",
       "<polygon fill=\"none\" points=\"0,-83.5 0,-129.5 261,-129.5 261,-83.5 0,-83.5\" stroke=\"black\"/>\n",
       "<text font-family=\"Times New Roman,serif\" font-size=\"14.00\" text-anchor=\"middle\" x=\"61\" y=\"-102.8\">dropout2: Dropout</text>\n",
       "<polyline fill=\"none\" points=\"122,-83.5 122,-129.5 \" stroke=\"black\"/>\n",
       "<text font-family=\"Times New Roman,serif\" font-size=\"14.00\" text-anchor=\"middle\" x=\"150\" y=\"-114.3\">input:</text>\n",
       "<polyline fill=\"none\" points=\"122,-106.5 178,-106.5 \" stroke=\"black\"/>\n",
       "<text font-family=\"Times New Roman,serif\" font-size=\"14.00\" text-anchor=\"middle\" x=\"150\" y=\"-91.3\">output:</text>\n",
       "<polyline fill=\"none\" points=\"178,-83.5 178,-129.5 \" stroke=\"black\"/>\n",
       "<text font-family=\"Times New Roman,serif\" font-size=\"14.00\" text-anchor=\"middle\" x=\"219.5\" y=\"-114.3\">(None, 625)</text>\n",
       "<polyline fill=\"none\" points=\"178,-106.5 261,-106.5 \" stroke=\"black\"/>\n",
       "<text font-family=\"Times New Roman,serif\" font-size=\"14.00\" text-anchor=\"middle\" x=\"219.5\" y=\"-91.3\">(None, 625)</text>\n",
       "</g>\n",
       "<!-- 2151468558544&#45;&gt;2151468558040 -->\n",
       "<g class=\"edge\" id=\"edge4\"><title>2151468558544-&gt;2151468558040</title>\n",
       "<path d=\"M130.5,-166.366C130.5,-158.152 130.5,-148.658 130.5,-139.725\" fill=\"none\" stroke=\"black\"/>\n",
       "<polygon fill=\"black\" points=\"134,-139.607 130.5,-129.607 127,-139.607 134,-139.607\" stroke=\"black\"/>\n",
       "</g>\n",
       "<!-- 2151468558096 -->\n",
       "<g class=\"node\" id=\"node5\"><title>2151468558096</title>\n",
       "<polygon fill=\"none\" points=\"12.5,-0.5 12.5,-46.5 248.5,-46.5 248.5,-0.5 12.5,-0.5\" stroke=\"black\"/>\n",
       "<text font-family=\"Times New Roman,serif\" font-size=\"14.00\" text-anchor=\"middle\" x=\"61\" y=\"-19.8\">dense3: Dense</text>\n",
       "<polyline fill=\"none\" points=\"109.5,-0.5 109.5,-46.5 \" stroke=\"black\"/>\n",
       "<text font-family=\"Times New Roman,serif\" font-size=\"14.00\" text-anchor=\"middle\" x=\"137.5\" y=\"-31.3\">input:</text>\n",
       "<polyline fill=\"none\" points=\"109.5,-23.5 165.5,-23.5 \" stroke=\"black\"/>\n",
       "<text font-family=\"Times New Roman,serif\" font-size=\"14.00\" text-anchor=\"middle\" x=\"137.5\" y=\"-8.3\">output:</text>\n",
       "<polyline fill=\"none\" points=\"165.5,-0.5 165.5,-46.5 \" stroke=\"black\"/>\n",
       "<text font-family=\"Times New Roman,serif\" font-size=\"14.00\" text-anchor=\"middle\" x=\"207\" y=\"-31.3\">(None, 625)</text>\n",
       "<polyline fill=\"none\" points=\"165.5,-23.5 248.5,-23.5 \" stroke=\"black\"/>\n",
       "<text font-family=\"Times New Roman,serif\" font-size=\"14.00\" text-anchor=\"middle\" x=\"207\" y=\"-8.3\">(None, 10)</text>\n",
       "</g>\n",
       "<!-- 2151468558040&#45;&gt;2151468558096 -->\n",
       "<g class=\"edge\" id=\"edge5\"><title>2151468558040-&gt;2151468558096</title>\n",
       "<path d=\"M130.5,-83.3664C130.5,-75.1516 130.5,-65.6579 130.5,-56.7252\" fill=\"none\" stroke=\"black\"/>\n",
       "<polygon fill=\"black\" points=\"134,-56.6068 130.5,-46.6068 127,-56.6069 134,-56.6068\" stroke=\"black\"/>\n",
       "</g>\n",
       "<!-- 2151468557368 -->\n",
       "<g class=\"node\" id=\"node6\"><title>2151468557368</title>\n",
       "<polygon fill=\"none\" points=\"78.5,-415.5 78.5,-451.5 182.5,-451.5 182.5,-415.5 78.5,-415.5\" stroke=\"black\"/>\n",
       "<text font-family=\"Times New Roman,serif\" font-size=\"14.00\" text-anchor=\"middle\" x=\"130.5\" y=\"-429.8\">2151468557368</text>\n",
       "</g>\n",
       "<!-- 2151468557368&#45;&gt;2151468556864 -->\n",
       "<g class=\"edge\" id=\"edge1\"><title>2151468557368-&gt;2151468556864</title>\n",
       "<path d=\"M130.5,-415.254C130.5,-407.363 130.5,-397.749 130.5,-388.602\" fill=\"none\" stroke=\"black\"/>\n",
       "<polygon fill=\"black\" points=\"134,-388.591 130.5,-378.591 127,-388.591 134,-388.591\" stroke=\"black\"/>\n",
       "</g>\n",
       "</g>\n",
       "</svg>"
      ],
      "text/plain": [
       "<IPython.core.display.SVG object>"
      ]
     },
     "execution_count": 6,
     "metadata": {},
     "output_type": "execute_result"
    }
   ],
   "source": [
    "from IPython.display import SVG\n",
    "\n",
    "from keras.utils.vis_utils import model_to_dot\n",
    "\n",
    "SVG(model_to_dot(model,show_shapes=True).create(prog='dot', format='svg'))"
   ]
  }
 ],
 "metadata": {
  "kernelspec": {
   "display_name": "Python 3",
   "language": "python",
   "name": "python3"
  },
  "language_info": {
   "codemirror_mode": {
    "name": "ipython",
    "version": 3
   },
   "file_extension": ".py",
   "mimetype": "text/x-python",
   "name": "python",
   "nbconvert_exporter": "python",
   "pygments_lexer": "ipython3",
   "version": "3.6.5"
  }
 },
 "nbformat": 4,
 "nbformat_minor": 2
}
