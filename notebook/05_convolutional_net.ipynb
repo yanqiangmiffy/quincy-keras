{
 "cells": [
  {
   "cell_type": "code",
   "execution_count": 1,
   "metadata": {},
   "outputs": [
    {
     "name": "stderr",
     "output_type": "stream",
     "text": [
      "Using TensorFlow backend.\n"
     ]
    }
   ],
   "source": [
    "from __future__ import print_function\n",
    "import keras\n",
    "from keras.models import Sequential\n",
    "from keras.layers import Dense,Flatten\n",
    "from keras.layers import Conv2D,MaxPooling2D\n",
    "from keras.datasets import mnist\n",
    "import matplotlib.pyplot as plt"
   ]
  },
  {
   "cell_type": "code",
   "execution_count": 2,
   "metadata": {},
   "outputs": [],
   "source": [
    "# 参数设置\n",
    "batch_size=128\n",
    "n_classes=10\n",
    "n_epochs=10\n",
    "\n",
    "# 图片维度\n",
    "img_x,img_y=28,28"
   ]
  },
  {
   "cell_type": "code",
   "execution_count": 3,
   "metadata": {},
   "outputs": [
    {
     "name": "stdout",
     "output_type": "stream",
     "text": [
      "x_train shape: (60000, 28, 28, 1)\n",
      "60000 train samples\n",
      "10000 test samples\n"
     ]
    }
   ],
   "source": [
    "# 加载MNIST数据集\n",
    "(x_train,y_train),(x_test,y_test)=mnist.load_data()\n",
    "# reshape the data into a 4D tensor - (sample_number, x_img_size, y_img_size, num_channels)\n",
    "# because the MNIST is greyscale, we only have a single channel - RGB colour images would have 3\n",
    "x_train = x_train.reshape(x_train.shape[0], img_x, img_y, 1)\n",
    "x_test = x_test.reshape(x_test.shape[0], img_x, img_y, 1)\n",
    "input_shape = (img_x, img_y, 1)\n",
    "\n",
    "x_train = x_train.astype('float32')\n",
    "x_test = x_test.astype('float32')\n",
    "x_train /= 255\n",
    "x_test /= 255\n",
    "print('x_train shape:', x_train.shape)\n",
    "print(x_train.shape[0], 'train samples')\n",
    "print(x_test.shape[0], 'test samples')"
   ]
  },
  {
   "cell_type": "markdown",
   "metadata": {},
   "source": [
    "网络结构：\n",
    "\n",
    "![](http://adventuresinmachinelearning.com/wp-content/uploads/2017/04/CNN-example-block-diagram.jpg)"
   ]
  },
  {
   "cell_type": "code",
   "execution_count": 4,
   "metadata": {},
   "outputs": [
    {
     "name": "stdout",
     "output_type": "stream",
     "text": [
      "Train on 60000 samples, validate on 10000 samples\n",
      "Epoch 1/10\n",
      "60000/60000 [==============================] - 8s 126us/step - loss: 0.1542 - acc: 0.9538 - val_loss: 0.0358 - val_acc: 0.9887\n",
      "Epoch 2/10\n",
      "60000/60000 [==============================] - 5s 78us/step - loss: 0.0400 - acc: 0.9875 - val_loss: 0.0297 - val_acc: 0.9917\n",
      "Epoch 3/10\n",
      "60000/60000 [==============================] - 5s 78us/step - loss: 0.0264 - acc: 0.9916 - val_loss: 0.0271 - val_acc: 0.9910\n",
      "Epoch 4/10\n",
      "60000/60000 [==============================] - 5s 78us/step - loss: 0.0189 - acc: 0.9938 - val_loss: 0.0286 - val_acc: 0.9907\n",
      "Epoch 5/10\n",
      "60000/60000 [==============================] - 5s 78us/step - loss: 0.0154 - acc: 0.9952 - val_loss: 0.0279 - val_acc: 0.9908\n",
      "Epoch 6/10\n",
      "60000/60000 [==============================] - 5s 78us/step - loss: 0.0125 - acc: 0.9960 - val_loss: 0.0388 - val_acc: 0.9895\n",
      "Epoch 7/10\n",
      "60000/60000 [==============================] - 5s 78us/step - loss: 0.0109 - acc: 0.9967 - val_loss: 0.0277 - val_acc: 0.9915\n",
      "Epoch 8/10\n",
      "60000/60000 [==============================] - 5s 78us/step - loss: 0.0092 - acc: 0.9971 - val_loss: 0.0218 - val_acc: 0.9941\n",
      "Epoch 9/10\n",
      "60000/60000 [==============================] - 5s 79us/step - loss: 0.0071 - acc: 0.9978 - val_loss: 0.0284 - val_acc: 0.9929\n",
      "Epoch 10/10\n",
      "60000/60000 [==============================] - 5s 78us/step - loss: 0.0080 - acc: 0.9972 - val_loss: 0.0374 - val_acc: 0.9910\n",
      "Test loss: 0.03735315087217368\n",
      "Test accuracy: 0.991\n"
     ]
    },
    {
     "data": {
      "image/png": "[encoded data removed]",
      "text/plain": [
       "<Figure size 432x288 with 1 Axes>"
      ]
     },
     "metadata": {},
     "output_type": "display_data"
    }
   ],
   "source": [
    "#  convert class vectors to binary class matrices - this is for use in the\n",
    "# categorical_crossentropy loss below\n",
    "y_train = keras.utils.to_categorical(y_train, n_classes)\n",
    "y_test = keras.utils.to_categorical(y_test, n_classes)\n",
    "\n",
    "model = Sequential()\n",
    "model.add(Conv2D(32, kernel_size=(5, 5), strides=(1, 1),\n",
    "                 activation='relu',\n",
    "                 input_shape=input_shape))\n",
    "model.add(MaxPooling2D(pool_size=(2, 2), strides=(2, 2)))\n",
    "model.add(Conv2D(64, (5, 5), activation='relu'))\n",
    "model.add(MaxPooling2D(pool_size=(2, 2)))\n",
    "model.add(Flatten())\n",
    "model.add(Dense(1000, activation='relu'))\n",
    "model.add(Dense(n_classes, activation='softmax'))\n",
    "\n",
    "model.compile(loss=keras.losses.categorical_crossentropy,\n",
    "              optimizer=keras.optimizers.Adam(),\n",
    "              metrics=['accuracy'])\n",
    "\n",
    "\n",
    "class AccuracyHistory(keras.callbacks.Callback):\n",
    "    def on_train_begin(self, logs={}):\n",
    "        self.acc = []\n",
    "\n",
    "    def on_epoch_end(self, batch, logs={}):\n",
    "        self.acc.append(logs.get('acc'))\n",
    "\n",
    "history = AccuracyHistory()\n",
    "\n",
    "model.fit(x_train, y_train,\n",
    "          batch_size=batch_size,\n",
    "          epochs=n_epochs,\n",
    "          verbose=1,\n",
    "          validation_data=(x_test, y_test),\n",
    "          callbacks=[history])\n",
    "score = model.evaluate(x_test, y_test, verbose=0)\n",
    "print('Test loss:', score[0])\n",
    "print('Test accuracy:', score[1])\n",
    "plt.plot(range(1, 11), history.acc)\n",
    "plt.xlabel('Epochs')\n",
    "plt.ylabel('Accuracy')\n",
    "plt.show()"
   ]
  },
  {
   "cell_type": "code",
   "execution_count": 5,
   "metadata": {},
   "outputs": [
    {
     "data": {
      "image/svg+xml": [
       "<svg height=\"556pt\" viewBox=\"0.00 0.00 217.00 556.00\" width=\"217pt\" xmlns=\"http://www.w3.org/2000/svg\" xmlns:xlink=\"http://www.w3.org/1999/xlink\">\n",
       "<g class=\"graph\" id=\"graph0\" transform=\"scale(1 1) rotate(0) translate(4 552)\">\n",
       "<title>G</title>\n",
       "<polygon fill=\"white\" points=\"-4,4 -4,-552 213,-552 213,4 -4,4\" stroke=\"none\"/>\n",
       "<!-- 3116126390872 -->\n",
       "<g class=\"node\" id=\"node1\"><title>3116126390872</title>\n",
       "<polygon fill=\"none\" points=\"41,-438.5 41,-474.5 168,-474.5 168,-438.5 41,-438.5\" stroke=\"black\"/>\n",
       "<text font-family=\"Times New Roman,serif\" font-size=\"14.00\" text-anchor=\"middle\" x=\"104.5\" y=\"-452.8\">conv2d_1: Conv2D</text>\n",
       "</g>\n",
       "<!-- 3116126391824 -->\n",
       "<g class=\"node\" id=\"node2\"><title>3116126391824</title>\n",
       "<polygon fill=\"none\" points=\"0,-365.5 0,-401.5 209,-401.5 209,-365.5 0,-365.5\" stroke=\"black\"/>\n",
       "<text font-family=\"Times New Roman,serif\" font-size=\"14.00\" text-anchor=\"middle\" x=\"104.5\" y=\"-379.8\">max_pooling2d_1: MaxPooling2D</text>\n",
       "</g>\n",
       "<!-- 3116126390872&#45;&gt;3116126391824 -->\n",
       "<g class=\"edge\" id=\"edge2\"><title>3116126390872-&gt;3116126391824</title>\n",
       "<path d=\"M104.5,-438.313C104.5,-430.289 104.5,-420.547 104.5,-411.569\" fill=\"none\" stroke=\"black\"/>\n",
       "<polygon fill=\"black\" points=\"108,-411.529 104.5,-401.529 101,-411.529 108,-411.529\" stroke=\"black\"/>\n",
       "</g>\n",
       "<!-- 3116126390536 -->\n",
       "<g class=\"node\" id=\"node3\"><title>3116126390536</title>\n",
       "<polygon fill=\"none\" points=\"41,-292.5 41,-328.5 168,-328.5 168,-292.5 41,-292.5\" stroke=\"black\"/>\n",
       "<text font-family=\"Times New Roman,serif\" font-size=\"14.00\" text-anchor=\"middle\" x=\"104.5\" y=\"-306.8\">conv2d_2: Conv2D</text>\n",
       "</g>\n",
       "<!-- 3116126391824&#45;&gt;3116126390536 -->\n",
       "<g class=\"edge\" id=\"edge3\"><title>3116126391824-&gt;3116126390536</title>\n",
       "<path d=\"M104.5,-365.313C104.5,-357.289 104.5,-347.547 104.5,-338.569\" fill=\"none\" stroke=\"black\"/>\n",
       "<polygon fill=\"black\" points=\"108,-338.529 104.5,-328.529 101,-338.529 108,-338.529\" stroke=\"black\"/>\n",
       "</g>\n",
       "<!-- 3116160411744 -->\n",
       "<g class=\"node\" id=\"node4\"><title>3116160411744</title>\n",
       "<polygon fill=\"none\" points=\"0,-219.5 0,-255.5 209,-255.5 209,-219.5 0,-219.5\" stroke=\"black\"/>\n",
       "<text font-family=\"Times New Roman,serif\" font-size=\"14.00\" text-anchor=\"middle\" x=\"104.5\" y=\"-233.8\">max_pooling2d_2: MaxPooling2D</text>\n",
       "</g>\n",
       "<!-- 3116126390536&#45;&gt;3116160411744 -->\n",
       "<g class=\"edge\" id=\"edge4\"><title>3116126390536-&gt;3116160411744</title>\n",
       "<path d=\"M104.5,-292.313C104.5,-284.289 104.5,-274.547 104.5,-265.569\" fill=\"none\" stroke=\"black\"/>\n",
       "<polygon fill=\"black\" points=\"108,-265.529 104.5,-255.529 101,-265.529 108,-265.529\" stroke=\"black\"/>\n",
       "</g>\n",
       "<!-- 3116126316304 -->\n",
       "<g class=\"node\" id=\"node5\"><title>3116126316304</title>\n",
       "<polygon fill=\"none\" points=\"50,-146.5 50,-182.5 159,-182.5 159,-146.5 50,-146.5\" stroke=\"black\"/>\n",
       "<text font-family=\"Times New Roman,serif\" font-size=\"14.00\" text-anchor=\"middle\" x=\"104.5\" y=\"-160.8\">flatten_1: Flatten</text>\n",
       "</g>\n",
       "<!-- 3116160411744&#45;&gt;3116126316304 -->\n",
       "<g class=\"edge\" id=\"edge5\"><title>3116160411744-&gt;3116126316304</title>\n",
       "<path d=\"M104.5,-219.313C104.5,-211.289 104.5,-201.547 104.5,-192.569\" fill=\"none\" stroke=\"black\"/>\n",
       "<polygon fill=\"black\" points=\"108,-192.529 104.5,-182.529 101,-192.529 108,-192.529\" stroke=\"black\"/>\n",
       "</g>\n",
       "<!-- 3116160412248 -->\n",
       "<g class=\"node\" id=\"node6\"><title>3116160412248</title>\n",
       "<polygon fill=\"none\" points=\"52.5,-73.5 52.5,-109.5 156.5,-109.5 156.5,-73.5 52.5,-73.5\" stroke=\"black\"/>\n",
       "<text font-family=\"Times New Roman,serif\" font-size=\"14.00\" text-anchor=\"middle\" x=\"104.5\" y=\"-87.8\">dense_1: Dense</text>\n",
       "</g>\n",
       "<!-- 3116126316304&#45;&gt;3116160412248 -->\n",
       "<g class=\"edge\" id=\"edge6\"><title>3116126316304-&gt;3116160412248</title>\n",
       "<path d=\"M104.5,-146.313C104.5,-138.289 104.5,-128.547 104.5,-119.569\" fill=\"none\" stroke=\"black\"/>\n",
       "<polygon fill=\"black\" points=\"108,-119.529 104.5,-109.529 101,-119.529 108,-119.529\" stroke=\"black\"/>\n",
       "</g>\n",
       "<!-- 3116160538496 -->\n",
       "<g class=\"node\" id=\"node7\"><title>3116160538496</title>\n",
       "<polygon fill=\"none\" points=\"52.5,-0.5 52.5,-36.5 156.5,-36.5 156.5,-0.5 52.5,-0.5\" stroke=\"black\"/>\n",
       "<text font-family=\"Times New Roman,serif\" font-size=\"14.00\" text-anchor=\"middle\" x=\"104.5\" y=\"-14.8\">dense_2: Dense</text>\n",
       "</g>\n",
       "<!-- 3116160412248&#45;&gt;3116160538496 -->\n",
       "<g class=\"edge\" id=\"edge7\"><title>3116160412248-&gt;3116160538496</title>\n",
       "<path d=\"M104.5,-73.3129C104.5,-65.2895 104.5,-55.5475 104.5,-46.5691\" fill=\"none\" stroke=\"black\"/>\n",
       "<polygon fill=\"black\" points=\"108,-46.5288 104.5,-36.5288 101,-46.5289 108,-46.5288\" stroke=\"black\"/>\n",
       "</g>\n",
       "<!-- 3116126391376 -->\n",
       "<g class=\"node\" id=\"node8\"><title>3116126391376</title>\n",
       "<polygon fill=\"none\" points=\"52.5,-511.5 52.5,-547.5 156.5,-547.5 156.5,-511.5 52.5,-511.5\" stroke=\"black\"/>\n",
       "<text font-family=\"Times New Roman,serif\" font-size=\"14.00\" text-anchor=\"middle\" x=\"104.5\" y=\"-525.8\">3116126391376</text>\n",
       "</g>\n",
       "<!-- 3116126391376&#45;&gt;3116126390872 -->\n",
       "<g class=\"edge\" id=\"edge1\"><title>3116126391376-&gt;3116126390872</title>\n",
       "<path d=\"M104.5,-511.313C104.5,-503.289 104.5,-493.547 104.5,-484.569\" fill=\"none\" stroke=\"black\"/>\n",
       "<polygon fill=\"black\" points=\"108,-484.529 104.5,-474.529 101,-484.529 108,-484.529\" stroke=\"black\"/>\n",
       "</g>\n",
       "</g>\n",
       "</svg>"
      ],
      "text/plain": [
       "<IPython.core.display.SVG object>"
      ]
     },
     "execution_count": 5,
     "metadata": {},
     "output_type": "execute_result"
    }
   ],
   "source": [
    "from IPython.display import SVG\n",
    "from keras.utils.vis_utils import model_to_dot\n",
    "\n",
    "SVG(model_to_dot(model).create(prog='dot', format='svg'))"
   ]
  },
  {
   "cell_type": "markdown",
   "metadata": {},
   "source": []
  },
  {
   "cell_type": "code",
   "execution_count": null,
   "metadata": {},
   "outputs": [],
   "source": []
  }
 ],
 "metadata": {
  "gist": {
   "data": {
    "description": "notebook/Untitled.ipynb",
    "public": true
   },
   "id": ""
  },
  "kernelspec": {
   "display_name": "Python 3",
   "language": "python",
   "name": "python3"
  },
  "language_info": {
   "codemirror_mode": {
    "name": "ipython",
    "version": 3
   },
   "file_extension": ".py",
   "mimetype": "text/x-python",
   "name": "python",
   "nbconvert_exporter": "python",
   "pygments_lexer": "ipython3",
   "version": "3.6.5"
  }
 },
 "nbformat": 4,
 "nbformat_minor": 2
}
